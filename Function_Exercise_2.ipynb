{
  "nbformat": 4,
  "nbformat_minor": 0,
  "metadata": {
    "colab": {
      "provenance": [],
      "collapsed_sections": [],
      "authorship_tag": "ABX9TyPw5vGEuvGrFRSjydEhwppQ",
      "include_colab_link": true
    },
    "kernelspec": {
      "name": "python3",
      "display_name": "Python 3"
    },
    "language_info": {
      "name": "python"
    }
  },
  "cells": [
    {
      "cell_type": "markdown",
      "metadata": {
        "id": "view-in-github",
        "colab_type": "text"
      },
      "source": [
        "<a href=\"https://colab.research.google.com/github/raju2309/EY_GDS/blob/main/Function_Exercise_2.ipynb\" target=\"_parent\"><img src=\"https://colab.research.google.com/assets/colab-badge.svg\" alt=\"Open In Colab\"/></a>"
      ]
    },
    {
      "cell_type": "code",
      "execution_count": null,
      "metadata": {
        "colab": {
          "base_uri": "https://localhost:8080/"
        },
        "id": "qixIiKlKqbCY",
        "outputId": "cb0127e5-95cd-42e0-ec59-8ed0b0a9a3df"
      },
      "outputs": [
        {
          "output_type": "stream",
          "name": "stdout",
          "text": [
            "The number of lowercase letters are: 18\n",
            "The number of uppercase letters are: 4\n"
          ]
        }
      ],
      "source": [
        "#1. Write a Python function that accepts a string and calculate the number of upper case letters and lower case letters \n",
        "\n",
        "def string(s):\n",
        "  count1 = 0\n",
        "  count2 = 0\n",
        "  for i in s:\n",
        "    if(i.islower()):\n",
        "      count1=count1+1\n",
        "    elif(i.isupper()):\n",
        "      count2 = count2 + 1\n",
        "  print(\"The number of lowercase letters are:\", count1)\n",
        "  print(\"The number of uppercase letters are:\",count2)\n",
        "\n",
        "string(\"Welcome to The Rk Totorial\")\n",
        "\n",
        "\n",
        "\n"
      ]
    },
    {
      "cell_type": "code",
      "source": [
        "#2. Write a Python function to check whether a string is a pangram or not. \n",
        "def pangram(s1):\n",
        "   alphabet = \"abcdefghijklmnopqrstuvwxyz\"\n",
        "   for i in alphabet:\n",
        "      if i not in s1.lower():\n",
        "         return False\n",
        "   return True\n",
        "   \n",
        "s1 = \"Hello World\"\n",
        "if(pangram(s1) == True):\n",
        "   print(\"Yes, It is pangram\")\n",
        "else:\n",
        "   print(\"No, It's not\")\n",
        "\n"
      ],
      "metadata": {
        "colab": {
          "base_uri": "https://localhost:8080/"
        },
        "id": "TZfCE74WstE_",
        "outputId": "cd7c4606-0dca-4c43-cf5d-6b8431939b95"
      },
      "execution_count": null,
      "outputs": [
        {
          "output_type": "stream",
          "name": "stdout",
          "text": [
            "No, It's not\n"
          ]
        }
      ]
    },
    {
      "cell_type": "code",
      "source": [
        "#3.Write a Python function that takes a number as a parameter and check the number is prime or not. \n",
        "def prime(n):\n",
        "\n",
        "    if (n==1):\n",
        "        return False\n",
        "    elif (n==2):\n",
        "        return True\n",
        "    else:\n",
        "        for i in range(2,n):\n",
        "            if(n % i==0):\n",
        "                return False\n",
        "        return True  \n",
        "        \n",
        "a=53\n",
        "if(prime(a) == True):\n",
        "   print(\"Yes, It is prime\")\n",
        "else:\n",
        "   print(\"No, It's not\")  \n",
        "\n",
        "\n"
      ],
      "metadata": {
        "colab": {
          "base_uri": "https://localhost:8080/"
        },
        "id": "GpJAQV_lwk73",
        "outputId": "f4a5b7bc-b7c6-4bcd-f9a6-3e11d9abf601"
      },
      "execution_count": null,
      "outputs": [
        {
          "output_type": "stream",
          "name": "stdout",
          "text": [
            "Yes, It is prime\n"
          ]
        }
      ]
    },
    {
      "cell_type": "code",
      "source": [
        "#4. Write a Python function to check whether a number is perfect or not. \n",
        "def perfect(n):\n",
        "    sum = 0\n",
        "    for x in range(1, n):\n",
        "        if n % x == 0:\n",
        "            sum += x\n",
        "    return sum == n\n",
        "\n",
        "b= 28\n",
        "\n",
        "if(perfect(b) == True):\n",
        "   print(\"Yes, It is perfect\")\n",
        "else:\n",
        "   print(\"No, It's not\")\n"
      ],
      "metadata": {
        "colab": {
          "base_uri": "https://localhost:8080/"
        },
        "id": "Y4xR_kwjxWMP",
        "outputId": "05b4ce59-90ce-4d2f-911c-27e2372272dd"
      },
      "execution_count": null,
      "outputs": [
        {
          "output_type": "stream",
          "name": "stdout",
          "text": [
            "Yes, It is perfect\n"
          ]
        }
      ]
    },
    {
      "cell_type": "code",
      "source": [],
      "metadata": {
        "id": "mnHk8BRMyBjN"
      },
      "execution_count": null,
      "outputs": []
    }
  ]
}