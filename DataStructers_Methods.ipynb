{
  "nbformat": 4,
  "nbformat_minor": 0,
  "metadata": {
    "colab": {
      "provenance": [],
      "collapsed_sections": [],
      "authorship_tag": "ABX9TyO5+jFYYgjNd7HO92qcj/ix",
      "include_colab_link": true
    },
    "kernelspec": {
      "name": "python3",
      "display_name": "Python 3"
    },
    "language_info": {
      "name": "python"
    }
  },
  "cells": [
    {
      "cell_type": "markdown",
      "metadata": {
        "id": "view-in-github",
        "colab_type": "text"
      },
      "source": [
        "<a href=\"https://colab.research.google.com/github/raju2309/EY_GDS/blob/main/DataStructers_Methods.ipynb\" target=\"_parent\"><img src=\"https://colab.research.google.com/assets/colab-badge.svg\" alt=\"Open In Colab\"/></a>"
      ]
    },
    {
      "cell_type": "code",
      "execution_count": 2,
      "metadata": {
        "colab": {
          "base_uri": "https://localhost:8080/"
        },
        "id": "Qgle8tl7pcGv",
        "outputId": "91883e7f-25dd-4986-935b-68c74e42bada"
      },
      "outputs": [
        {
          "output_type": "execute_result",
          "data": {
            "text/plain": [
              "[1, 2, 3, 4, 67, 56, 'rk', 'tk']"
            ]
          },
          "metadata": {},
          "execution_count": 2
        }
      ],
      "source": [
        "#List\n",
        "l= [1,2,3,4,67,56,'rk','tk']\n",
        "l"
      ]
    },
    {
      "cell_type": "code",
      "source": [
        "#Accessing list items\n",
        "l[0]\n",
        "\n",
        "l[2:5]"
      ],
      "metadata": {
        "colab": {
          "base_uri": "https://localhost:8080/"
        },
        "id": "iVlSWTqWqIQU",
        "outputId": "3daa339e-b151-4800-f86c-d6a813e252b9"
      },
      "execution_count": 4,
      "outputs": [
        {
          "output_type": "execute_result",
          "data": {
            "text/plain": [
              "[3, 4, 67]"
            ]
          },
          "metadata": {},
          "execution_count": 4
        }
      ]
    },
    {
      "cell_type": "code",
      "source": [
        "l[-1]\n"
      ],
      "metadata": {
        "colab": {
          "base_uri": "https://localhost:8080/",
          "height": 36
        },
        "id": "AAkBUQfXqSeD",
        "outputId": "480a878d-761a-4ec7-d6b5-5adada912679"
      },
      "execution_count": 5,
      "outputs": [
        {
          "output_type": "execute_result",
          "data": {
            "text/plain": [
              "'tk'"
            ],
            "application/vnd.google.colaboratory.intrinsic+json": {
              "type": "string"
            }
          },
          "metadata": {},
          "execution_count": 5
        }
      ]
    },
    {
      "cell_type": "code",
      "source": [
        "l[-4:-1]"
      ],
      "metadata": {
        "colab": {
          "base_uri": "https://localhost:8080/"
        },
        "id": "3aRDYRlVqb3c",
        "outputId": "5c75f3ed-a2e6-46e9-9f74-5b45fc3e3c01"
      },
      "execution_count": 6,
      "outputs": [
        {
          "output_type": "execute_result",
          "data": {
            "text/plain": [
              "[67, 56, 'rk']"
            ]
          },
          "metadata": {},
          "execution_count": 6
        }
      ]
    },
    {
      "cell_type": "code",
      "source": [
        "l[2]= 99 #Changing Value "
      ],
      "metadata": {
        "id": "f1D3YY7fqomU"
      },
      "execution_count": 7,
      "outputs": []
    },
    {
      "cell_type": "code",
      "source": [
        "l"
      ],
      "metadata": {
        "colab": {
          "base_uri": "https://localhost:8080/"
        },
        "id": "rv0jQx_eq8sO",
        "outputId": "4afb22c7-e686-4f07-91f4-62460cd6712e"
      },
      "execution_count": 8,
      "outputs": [
        {
          "output_type": "execute_result",
          "data": {
            "text/plain": [
              "[1, 2, 99, 4, 67, 56, 'rk', 'tk']"
            ]
          },
          "metadata": {},
          "execution_count": 8
        }
      ]
    },
    {
      "cell_type": "code",
      "source": [
        "l.insert (3,87) #Adding new value"
      ],
      "metadata": {
        "id": "lYE2LpqHq96O"
      },
      "execution_count": 9,
      "outputs": []
    },
    {
      "cell_type": "code",
      "source": [
        "l"
      ],
      "metadata": {
        "colab": {
          "base_uri": "https://localhost:8080/"
        },
        "id": "bvjaQK7crWu4",
        "outputId": "5349f303-70a7-43d0-9565-0fb69ad25155"
      },
      "execution_count": 10,
      "outputs": [
        {
          "output_type": "execute_result",
          "data": {
            "text/plain": [
              "[1, 2, 99, 87, 4, 67, 56, 'rk', 'tk']"
            ]
          },
          "metadata": {},
          "execution_count": 10
        }
      ]
    },
    {
      "cell_type": "code",
      "source": [
        "#To add an item to the end of the list, use the append() method:\n",
        "l.append('Sagar')\n",
        "l"
      ],
      "metadata": {
        "colab": {
          "base_uri": "https://localhost:8080/"
        },
        "id": "WIEqXIWBrX5d",
        "outputId": "d631c74d-9e9a-4683-ab23-093d9f111233"
      },
      "execution_count": 12,
      "outputs": [
        {
          "output_type": "execute_result",
          "data": {
            "text/plain": [
              "[1, 2, 99, 87, 4, 67, 56, 'rk', 'tk', 'Sagar', 'Sagar']"
            ]
          },
          "metadata": {},
          "execution_count": 12
        }
      ]
    },
    {
      "cell_type": "code",
      "source": [
        "l2 = [2,3,'ram','shyam','Mohan']"
      ],
      "metadata": {
        "id": "aoj256vortto"
      },
      "execution_count": 13,
      "outputs": []
    },
    {
      "cell_type": "code",
      "source": [
        "l.extend(l2 ) #To append elements from another list to the current list, use the extend() method.\n",
        "l"
      ],
      "metadata": {
        "colab": {
          "base_uri": "https://localhost:8080/"
        },
        "id": "OCoO9EcHr3Xw",
        "outputId": "17c8c2a9-531e-4313-b0ff-29d8076605af"
      },
      "execution_count": 15,
      "outputs": [
        {
          "output_type": "execute_result",
          "data": {
            "text/plain": [
              "[1,\n",
              " 2,\n",
              " 99,\n",
              " 87,\n",
              " 4,\n",
              " 67,\n",
              " 56,\n",
              " 'rk',\n",
              " 'tk',\n",
              " 'Sagar',\n",
              " 'Sagar',\n",
              " 2,\n",
              " 3,\n",
              " 'ram',\n",
              " 'shyam',\n",
              " 'Mohan',\n",
              " 2,\n",
              " 3,\n",
              " 'ram',\n",
              " 'shyam',\n",
              " 'Mohan']"
            ]
          },
          "metadata": {},
          "execution_count": 15
        }
      ]
    },
    {
      "cell_type": "code",
      "source": [
        "l.remove('Sagar')\n",
        "l"
      ],
      "metadata": {
        "colab": {
          "base_uri": "https://localhost:8080/"
        },
        "id": "2p4XHyuLsVY1",
        "outputId": "cd00bfb7-8f0c-4c08-ba50-f13b0dca0a5a"
      },
      "execution_count": 17,
      "outputs": [
        {
          "output_type": "execute_result",
          "data": {
            "text/plain": [
              "[1,\n",
              " 2,\n",
              " 99,\n",
              " 87,\n",
              " 4,\n",
              " 67,\n",
              " 56,\n",
              " 'rk',\n",
              " 'tk',\n",
              " 2,\n",
              " 3,\n",
              " 'ram',\n",
              " 'shyam',\n",
              " 'Mohan',\n",
              " 2,\n",
              " 3,\n",
              " 'ram',\n",
              " 'shyam',\n",
              " 'Mohan']"
            ]
          },
          "metadata": {},
          "execution_count": 17
        }
      ]
    },
    {
      "cell_type": "code",
      "source": [
        "l.pop(2)"
      ],
      "metadata": {
        "colab": {
          "base_uri": "https://localhost:8080/"
        },
        "id": "08gImwSEs0pv",
        "outputId": "9bf4cfea-a39b-4c52-d4e3-d204e0d9bbeb"
      },
      "execution_count": 18,
      "outputs": [
        {
          "output_type": "execute_result",
          "data": {
            "text/plain": [
              "99"
            ]
          },
          "metadata": {},
          "execution_count": 18
        }
      ]
    },
    {
      "cell_type": "code",
      "source": [
        "del l[4]\n",
        "l"
      ],
      "metadata": {
        "colab": {
          "base_uri": "https://localhost:8080/"
        },
        "id": "baO86PsptCLH",
        "outputId": "2b47edbf-513e-4806-f5df-e73fe9f7e8c7"
      },
      "execution_count": 21,
      "outputs": [
        {
          "output_type": "execute_result",
          "data": {
            "text/plain": [
              "[1,\n",
              " 2,\n",
              " 87,\n",
              " 4,\n",
              " 'rk',\n",
              " 'tk',\n",
              " 2,\n",
              " 3,\n",
              " 'ram',\n",
              " 'shyam',\n",
              " 'Mohan',\n",
              " 2,\n",
              " 3,\n",
              " 'ram',\n",
              " 'shyam',\n",
              " 'Mohan']"
            ]
          },
          "metadata": {},
          "execution_count": 21
        }
      ]
    },
    {
      "cell_type": "code",
      "source": [
        "l3 = [8,2,5,6,7]\n",
        "l3.sort() # sort the value\n",
        "l3\n",
        "l4 = [2,3,4,6]\n"
      ],
      "metadata": {
        "colab": {
          "base_uri": "https://localhost:8080/"
        },
        "id": "Ugj77e5dtSyZ",
        "outputId": "c6afa971-f334-4635-c95d-cc17b5b73b7b"
      },
      "execution_count": 26,
      "outputs": [
        {
          "output_type": "execute_result",
          "data": {
            "text/plain": [
              "[2, 5, 6, 7, 8]"
            ]
          },
          "metadata": {},
          "execution_count": 26
        }
      ]
    },
    {
      "cell_type": "code",
      "source": [
        "l5=l3.copy() # copy the present value\n",
        "l5"
      ],
      "metadata": {
        "colab": {
          "base_uri": "https://localhost:8080/"
        },
        "id": "YHqMWtmZtlUC",
        "outputId": "33d6b896-7d56-46bd-d9ca-ec05b2e9b738"
      },
      "execution_count": 32,
      "outputs": [
        {
          "output_type": "execute_result",
          "data": {
            "text/plain": [
              "[2, 5, 6, 7, 8]"
            ]
          },
          "metadata": {},
          "execution_count": 32
        }
      ]
    },
    {
      "cell_type": "code",
      "source": [
        "l6 = l2 + l5 #List Join\n",
        "l6"
      ],
      "metadata": {
        "colab": {
          "base_uri": "https://localhost:8080/"
        },
        "id": "aNu91udfuSGO",
        "outputId": "e38b77d9-f97d-4b1e-9b5c-14f4c4a8263a"
      },
      "execution_count": 34,
      "outputs": [
        {
          "output_type": "execute_result",
          "data": {
            "text/plain": [
              "[2, 3, 'ram', 'shyam', 'Mohan', 2, 5, 6, 7, 8]"
            ]
          },
          "metadata": {},
          "execution_count": 34
        }
      ]
    },
    {
      "cell_type": "code",
      "source": [
        "l6.reverse()\n",
        "l6"
      ],
      "metadata": {
        "colab": {
          "base_uri": "https://localhost:8080/"
        },
        "id": "Ux7rsUkCvDpB",
        "outputId": "7ea79090-a832-4f7d-b25d-ae315e5fa1d6"
      },
      "execution_count": 37,
      "outputs": [
        {
          "output_type": "execute_result",
          "data": {
            "text/plain": [
              "[8, 7, 6, 5, 2, 'Mohan', 'shyam', 'ram', 3, 2]"
            ]
          },
          "metadata": {},
          "execution_count": 37
        }
      ]
    },
    {
      "cell_type": "code",
      "source": [
        "y=l6.count(2)\n",
        "y"
      ],
      "metadata": {
        "colab": {
          "base_uri": "https://localhost:8080/"
        },
        "id": "FWXmgvO2vSsy",
        "outputId": "60b0f2ab-ac5e-4f99-beb8-32e3b024daf0"
      },
      "execution_count": 39,
      "outputs": [
        {
          "output_type": "execute_result",
          "data": {
            "text/plain": [
              "2"
            ]
          },
          "metadata": {},
          "execution_count": 39
        }
      ]
    },
    {
      "cell_type": "code",
      "source": [
        "#Tuple & their methods\n",
        "t1 = (1,2,4,5,7,2,4)\n",
        "t1"
      ],
      "metadata": {
        "colab": {
          "base_uri": "https://localhost:8080/"
        },
        "id": "RGKxPlUuvmi5",
        "outputId": "03652be7-1f0b-49c3-bc73-4c52b4dda8d4"
      },
      "execution_count": 41,
      "outputs": [
        {
          "output_type": "execute_result",
          "data": {
            "text/plain": [
              "(1, 2, 4, 5, 7, 2, 4)"
            ]
          },
          "metadata": {},
          "execution_count": 41
        }
      ]
    },
    {
      "cell_type": "code",
      "source": [
        "x= t1.count(2) #Count \n",
        "x"
      ],
      "metadata": {
        "colab": {
          "base_uri": "https://localhost:8080/"
        },
        "id": "hukmqi1Jv3Mh",
        "outputId": "091f114c-87e7-481f-cf4e-e436f1a3e650"
      },
      "execution_count": 43,
      "outputs": [
        {
          "output_type": "execute_result",
          "data": {
            "text/plain": [
              "2"
            ]
          },
          "metadata": {},
          "execution_count": 43
        }
      ]
    },
    {
      "cell_type": "code",
      "source": [
        "z= t1.index(2) #Index\n",
        "z"
      ],
      "metadata": {
        "colab": {
          "base_uri": "https://localhost:8080/"
        },
        "id": "nEja3POxv934",
        "outputId": "86960ca8-3572-4e23-83b8-c5649be74d78"
      },
      "execution_count": 45,
      "outputs": [
        {
          "output_type": "execute_result",
          "data": {
            "text/plain": [
              "1"
            ]
          },
          "metadata": {},
          "execution_count": 45
        }
      ]
    },
    {
      "cell_type": "code",
      "source": [
        "#Sets & their methods\n",
        "s1 = {2,3,4,3,3,3,7,9,11}\n",
        "s1"
      ],
      "metadata": {
        "colab": {
          "base_uri": "https://localhost:8080/"
        },
        "id": "sPx3SgYSwIxd",
        "outputId": "87a5a9e1-183e-4eb9-b9f2-51dd235d72e6"
      },
      "execution_count": 49,
      "outputs": [
        {
          "output_type": "execute_result",
          "data": {
            "text/plain": [
              "{2, 3, 4, 7, 9, 11}"
            ]
          },
          "metadata": {},
          "execution_count": 49
        }
      ]
    },
    {
      "cell_type": "code",
      "source": [
        "s1.add('Aman') # add method\n",
        "s1"
      ],
      "metadata": {
        "colab": {
          "base_uri": "https://localhost:8080/"
        },
        "id": "TdLBsv2mww_w",
        "outputId": "a01be768-3f9c-4d15-a458-3af8b8cdd6f7"
      },
      "execution_count": 52,
      "outputs": [
        {
          "output_type": "execute_result",
          "data": {
            "text/plain": [
              "{11, 2, 3, 4, 7, 9, 'Aman'}"
            ]
          },
          "metadata": {},
          "execution_count": 52
        }
      ]
    },
    {
      "cell_type": "code",
      "source": [
        "t= s1.copy() #copy method\n",
        "t"
      ],
      "metadata": {
        "colab": {
          "base_uri": "https://localhost:8080/"
        },
        "id": "wakC-pHuxFFq",
        "outputId": "e1c6cd96-3b31-49da-df67-6eae37b942f4"
      },
      "execution_count": 54,
      "outputs": [
        {
          "output_type": "execute_result",
          "data": {
            "text/plain": [
              "{11, 2, 3, 4, 7, 9, 'Aman'}"
            ]
          },
          "metadata": {},
          "execution_count": 54
        }
      ]
    },
    {
      "cell_type": "code",
      "source": [
        "s2={2,3,6,7,98,67} # difference method\n",
        "p=s1.difference(s2)\n",
        "p"
      ],
      "metadata": {
        "colab": {
          "base_uri": "https://localhost:8080/"
        },
        "id": "kI25O7htxT0d",
        "outputId": "569f487f-8264-40f2-c806-8a568dcb2b64"
      },
      "execution_count": 57,
      "outputs": [
        {
          "output_type": "execute_result",
          "data": {
            "text/plain": [
              "{11, 4, 9, 'Aman'}"
            ]
          },
          "metadata": {},
          "execution_count": 57
        }
      ]
    },
    {
      "cell_type": "code",
      "source": [
        "r1 = s1.difference_update(s2) # remove the items which is common\n",
        "s1"
      ],
      "metadata": {
        "colab": {
          "base_uri": "https://localhost:8080/"
        },
        "id": "XtD0JbclxkFM",
        "outputId": "670a4815-9337-4691-e713-920ca4461e4e"
      },
      "execution_count": 66,
      "outputs": [
        {
          "output_type": "execute_result",
          "data": {
            "text/plain": [
              "{11, 4, 9, 'Aman'}"
            ]
          },
          "metadata": {},
          "execution_count": 66
        }
      ]
    },
    {
      "cell_type": "code",
      "source": [
        "s1.discard(11) #remove specific item\n",
        "s1"
      ],
      "metadata": {
        "colab": {
          "base_uri": "https://localhost:8080/"
        },
        "id": "-hH5Ns1XyK3J",
        "outputId": "53e97b5a-b635-4208-a381-e8a2e4eb44b4"
      },
      "execution_count": 68,
      "outputs": [
        {
          "output_type": "execute_result",
          "data": {
            "text/plain": [
              "{4, 9, 'Aman'}"
            ]
          },
          "metadata": {},
          "execution_count": 68
        }
      ]
    },
    {
      "cell_type": "code",
      "source": [
        "k= t.intersection(s1) # retuens common value\n",
        "k"
      ],
      "metadata": {
        "colab": {
          "base_uri": "https://localhost:8080/"
        },
        "id": "pgd9CWWMyzzu",
        "outputId": "fb9559c9-0219-41c6-e295-22202946084f"
      },
      "execution_count": 71,
      "outputs": [
        {
          "output_type": "execute_result",
          "data": {
            "text/plain": [
              "{4, 9, 'Aman'}"
            ]
          },
          "metadata": {},
          "execution_count": 71
        }
      ]
    },
    {
      "cell_type": "code",
      "source": [
        "x = {3, 6, 9}\n",
        "y = {3, 7, 11}\n",
        "\n",
        "\n",
        "x.intersection_update(y) # Remove the items that is not present in both x and y\n",
        "x"
      ],
      "metadata": {
        "colab": {
          "base_uri": "https://localhost:8080/"
        },
        "id": "VRCSlaf5zGYy",
        "outputId": "4d4e3c53-b353-478c-f606-c73b97bfa28a"
      },
      "execution_count": 73,
      "outputs": [
        {
          "output_type": "execute_result",
          "data": {
            "text/plain": [
              "{3}"
            ]
          },
          "metadata": {},
          "execution_count": 73
        }
      ]
    },
    {
      "cell_type": "code",
      "source": [
        "z = x.isdisjoint(y) #Return True if no items in set x is present in set y\n",
        "z"
      ],
      "metadata": {
        "colab": {
          "base_uri": "https://localhost:8080/"
        },
        "id": "mS8EbRjez8Vx",
        "outputId": "1eebb41c-c54d-4a44-de43-32af5c640bdc"
      },
      "execution_count": 75,
      "outputs": [
        {
          "output_type": "execute_result",
          "data": {
            "text/plain": [
              "False"
            ]
          },
          "metadata": {},
          "execution_count": 75
        }
      ]
    },
    {
      "cell_type": "code",
      "source": [
        "u = x.issubset(y) #Return True if all items in set x are present in set y\n",
        "u"
      ],
      "metadata": {
        "colab": {
          "base_uri": "https://localhost:8080/"
        },
        "id": "-KvFveUe0VHf",
        "outputId": "2d5293b6-bb21-4104-8c33-28e5b0e8e745"
      },
      "execution_count": 77,
      "outputs": [
        {
          "output_type": "execute_result",
          "data": {
            "text/plain": [
              "True"
            ]
          },
          "metadata": {},
          "execution_count": 77
        }
      ]
    },
    {
      "cell_type": "code",
      "source": [
        "v=x.issuperset(y) #Return True if all items set y are present in set x\n",
        "v\n"
      ],
      "metadata": {
        "colab": {
          "base_uri": "https://localhost:8080/"
        },
        "id": "DMp4TrXq0o1d",
        "outputId": "dd3d84b5-fd43-45b1-ca5a-c90126c5059d"
      },
      "execution_count": 79,
      "outputs": [
        {
          "output_type": "execute_result",
          "data": {
            "text/plain": [
              "False"
            ]
          },
          "metadata": {},
          "execution_count": 79
        }
      ]
    },
    {
      "cell_type": "code",
      "source": [
        "y.pop() # remove one item\n",
        "y"
      ],
      "metadata": {
        "colab": {
          "base_uri": "https://localhost:8080/"
        },
        "id": "9ky8VSPo065K",
        "outputId": "3e57dff1-b057-4979-c27d-e2f36d5c0307"
      },
      "execution_count": 81,
      "outputs": [
        {
          "output_type": "execute_result",
          "data": {
            "text/plain": [
              "{7}"
            ]
          },
          "metadata": {},
          "execution_count": 81
        }
      ]
    },
    {
      "cell_type": "code",
      "source": [
        "y.add(2)\n",
        "y"
      ],
      "metadata": {
        "colab": {
          "base_uri": "https://localhost:8080/"
        },
        "id": "V7zOH3Nv1FCA",
        "outputId": "2bd87089-cb38-4553-d309-ba0a13a9735c"
      },
      "execution_count": 87,
      "outputs": [
        {
          "output_type": "execute_result",
          "data": {
            "text/plain": [
              "{2}"
            ]
          },
          "metadata": {},
          "execution_count": 87
        }
      ]
    },
    {
      "cell_type": "code",
      "source": [
        "y.add(9)   # adding & removingf a value\n",
        "y.add(15)\n",
        "y\n",
        "y.remove(15)\n",
        "y"
      ],
      "metadata": {
        "colab": {
          "base_uri": "https://localhost:8080/"
        },
        "id": "B5ITC4b31Qjh",
        "outputId": "2542c918-2d49-4290-9c7a-7a165d591e9a"
      },
      "execution_count": 96,
      "outputs": [
        {
          "output_type": "execute_result",
          "data": {
            "text/plain": [
              "{9}"
            ]
          },
          "metadata": {},
          "execution_count": 96
        }
      ]
    },
    {
      "cell_type": "code",
      "source": [
        "Set5 = {2,3,3,4,4,7,8,9}\n",
        "set6 = {2,1,1,4,5,67,78,8}\n",
        "set7 = Set5.union(set6)    #Union\n",
        "set7"
      ],
      "metadata": {
        "colab": {
          "base_uri": "https://localhost:8080/"
        },
        "id": "9aRwlzAk1jBQ",
        "outputId": "ad9c0285-571a-4ce3-d139-1504077bd10e"
      },
      "execution_count": 99,
      "outputs": [
        {
          "output_type": "execute_result",
          "data": {
            "text/plain": [
              "{1, 2, 3, 4, 5, 7, 8, 9, 67, 78}"
            ]
          },
          "metadata": {},
          "execution_count": 99
        }
      ]
    },
    {
      "cell_type": "code",
      "source": [
        "#Dictioneries Methods\n",
        "Match ={\n",
        "    'Sachin' :100,\n",
        "    'Virat' : 71,\n",
        "    'Rohit' : 42,\n",
        "    'Dhoni' : 87\n",
        "\n",
        "}\n",
        "Match3 =0\n",
        "Match\n",
        "Match2=Match.copy()  #copy method\n",
        "Match2    \n"
      ],
      "metadata": {
        "colab": {
          "base_uri": "https://localhost:8080/"
        },
        "id": "mK1LZDKa2XTx",
        "outputId": "bf8ef4f6-d5af-4afe-dff6-09b3ca8475ad"
      },
      "execution_count": 105,
      "outputs": [
        {
          "output_type": "execute_result",
          "data": {
            "text/plain": [
              "{'Sachin': 100, 'Virat': 71, 'Rohit': 42, 'Dhoni': 87}"
            ]
          },
          "metadata": {},
          "execution_count": 105
        }
      ]
    },
    {
      "cell_type": "code",
      "source": [
        "Score =  dict.fromkeys(Match,Match2) #The fromkeys() method returns a dictionary with the specified keys and the specified value.\n",
        "Score  "
      ],
      "metadata": {
        "colab": {
          "base_uri": "https://localhost:8080/"
        },
        "id": "pWCDl_MS3OfS",
        "outputId": "d93e99c5-4fd2-4b1b-92f0-dc6d7cade20b"
      },
      "execution_count": 108,
      "outputs": [
        {
          "output_type": "execute_result",
          "data": {
            "text/plain": [
              "{'Sachin': {'Sachin': 100, 'Virat': 71, 'Rohit': 42, 'Dhoni': 87},\n",
              " 'Virat': {'Sachin': 100, 'Virat': 71, 'Rohit': 42, 'Dhoni': 87},\n",
              " 'Rohit': {'Sachin': 100, 'Virat': 71, 'Rohit': 42, 'Dhoni': 87},\n",
              " 'Dhoni': {'Sachin': 100, 'Virat': 71, 'Rohit': 42, 'Dhoni': 87}}"
            ]
          },
          "metadata": {},
          "execution_count": 108
        }
      ]
    },
    {
      "cell_type": "code",
      "source": [
        "y= Score.get(\"Dhoni\") # to get specific value\n",
        "y"
      ],
      "metadata": {
        "colab": {
          "base_uri": "https://localhost:8080/"
        },
        "id": "Ebzev-qN3707",
        "outputId": "4c4188b4-905f-4230-b994-7d4240b1b5af"
      },
      "execution_count": 110,
      "outputs": [
        {
          "output_type": "execute_result",
          "data": {
            "text/plain": [
              "{'Sachin': 100, 'Virat': 71, 'Rohit': 42, 'Dhoni': 87}"
            ]
          },
          "metadata": {},
          "execution_count": 110
        }
      ]
    },
    {
      "cell_type": "code",
      "source": [
        "z=y.items()      \n",
        "z                                #The items() method returns a view object. The view object contains the key-value pairs of the dictionary, as tuples in a list"
      ],
      "metadata": {
        "colab": {
          "base_uri": "https://localhost:8080/"
        },
        "id": "p9ku0Doi6jUF",
        "outputId": "9b0c107f-fe47-4d1b-87a4-16c1e93fe764"
      },
      "execution_count": 112,
      "outputs": [
        {
          "output_type": "execute_result",
          "data": {
            "text/plain": [
              "dict_items([('Sachin', 100), ('Virat', 71), ('Rohit', 42), ('Dhoni', 87)])"
            ]
          },
          "metadata": {},
          "execution_count": 112
        }
      ]
    },
    {
      "cell_type": "code",
      "source": [
        "p=y.keys() #returns keys value.\n",
        "p"
      ],
      "metadata": {
        "colab": {
          "base_uri": "https://localhost:8080/"
        },
        "id": "5Y79N0XP7Gdd",
        "outputId": "2672150d-14bb-4199-f626-0341b532eac5"
      },
      "execution_count": 114,
      "outputs": [
        {
          "output_type": "execute_result",
          "data": {
            "text/plain": [
              "dict_keys(['Sachin', 'Virat', 'Rohit', 'Dhoni'])"
            ]
          },
          "metadata": {},
          "execution_count": 114
        }
      ]
    },
    {
      "cell_type": "code",
      "source": [
        "w=Score.pop('Rohit') #remove specific key & value\n",
        "w"
      ],
      "metadata": {
        "colab": {
          "base_uri": "https://localhost:8080/"
        },
        "id": "YeG-1MpV7SsK",
        "outputId": "d756afe4-5b21-4a48-c348-26d18426c508"
      },
      "execution_count": 121,
      "outputs": [
        {
          "output_type": "execute_result",
          "data": {
            "text/plain": [
              "{'Sachin': 100, 'Virat': 71, 'Dhoni': 87}"
            ]
          },
          "metadata": {},
          "execution_count": 121
        }
      ]
    },
    {
      "cell_type": "code",
      "source": [
        "u1= Score.popitem() #remove last inserted item\n",
        "u1"
      ],
      "metadata": {
        "colab": {
          "base_uri": "https://localhost:8080/"
        },
        "id": "FJDDk44Q7gtt",
        "outputId": "e3f1be21-75f8-4589-df02-99dc4a4b14df"
      },
      "execution_count": 123,
      "outputs": [
        {
          "output_type": "execute_result",
          "data": {
            "text/plain": [
              "('Virat', {'Sachin': 100, 'Virat': 71, 'Dhoni': 87})"
            ]
          },
          "metadata": {},
          "execution_count": 123
        }
      ]
    },
    {
      "cell_type": "code",
      "source": [
        "u2= Score.setdefault(\"Yuvi\",100) #The setdefault() method returns the value of the item with the specified key.\n",
        "u2"
      ],
      "metadata": {
        "colab": {
          "base_uri": "https://localhost:8080/"
        },
        "id": "dTOnDxHJ8fBK",
        "outputId": "f32ddc37-5252-4e7b-fa3c-eae0ea2c5c11"
      },
      "execution_count": 125,
      "outputs": [
        {
          "output_type": "execute_result",
          "data": {
            "text/plain": [
              "100"
            ]
          },
          "metadata": {},
          "execution_count": 125
        }
      ]
    },
    {
      "cell_type": "code",
      "source": [
        "u3= Score.values() # Returns Value of keys\n",
        "u3"
      ],
      "metadata": {
        "colab": {
          "base_uri": "https://localhost:8080/"
        },
        "id": "CKsOWje682lk",
        "outputId": "5833d6c7-e768-42d2-ecf2-0995409f69d9"
      },
      "execution_count": 130,
      "outputs": [
        {
          "output_type": "execute_result",
          "data": {
            "text/plain": [
              "dict_values([{'Sachin': 100, 'Virat': 71, 'Dhoni': 87}, 100])"
            ]
          },
          "metadata": {},
          "execution_count": 130
        }
      ]
    },
    {
      "cell_type": "code",
      "source": [],
      "metadata": {
        "id": "VTRrYbwg9UjD"
      },
      "execution_count": null,
      "outputs": []
    }
  ]
}