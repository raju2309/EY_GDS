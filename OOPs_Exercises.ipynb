{
  "nbformat": 4,
  "nbformat_minor": 0,
  "metadata": {
    "colab": {
      "provenance": [],
      "authorship_tag": "ABX9TyObjE3V5fgyf2aBFQ9mKL58",
      "include_colab_link": true
    },
    "kernelspec": {
      "name": "python3",
      "display_name": "Python 3"
    },
    "language_info": {
      "name": "python"
    }
  },
  "cells": [
    {
      "cell_type": "markdown",
      "metadata": {
        "id": "view-in-github",
        "colab_type": "text"
      },
      "source": [
        "<a href=\"https://colab.research.google.com/github/raju2309/EY_GDS/blob/main/OOPs_Exercises.ipynb\" target=\"_parent\"><img src=\"https://colab.research.google.com/assets/colab-badge.svg\" alt=\"Open In Colab\"/></a>"
      ]
    },
    {
      "cell_type": "code",
      "execution_count": 1,
      "metadata": {
        "colab": {
          "base_uri": "https://localhost:8080/"
        },
        "id": "2TLtBVdsJGVb",
        "outputId": "7a9c18b7-e164-452a-a6b7-77a80e21de96"
      },
      "outputs": [
        {
          "output_type": "stream",
          "name": "stdout",
          "text": [
            "Motor Bike 100 30\n"
          ]
        }
      ],
      "source": [
        "#OOPs Exercises:\n",
        "#1.Write a Python program to create a Vehicle class with name, max_speed and mileage instance attributes.\n",
        "class Vehicle:\n",
        "    def __init__(self, Name, max_speed, mileage):\n",
        "        self.Name = Name\n",
        "        self.max_speed = max_speed\n",
        "        self.mileage = mileage\n",
        "\n",
        "Obj1= Vehicle(\"Motor Bike\",100, 30)\n",
        "print(Obj1.Name,Obj1.max_speed, Obj1.mileage)"
      ]
    },
    {
      "cell_type": "code",
      "source": [
        "#2.For the same problem statement 1, Define a property that must have the same value for every class instance (object)\n",
        "class Vehicle:\n",
        "    color = \"red\"\n",
        "    def __init__(self, Name, max_speed, mileage):\n",
        "        self.Name = Name\n",
        "        self.max_speed = max_speed\n",
        "        self.mileage = mileage\n",
        "\n",
        "Obj1= Vehicle(\"Motor Bike\",100, 30)\n",
        "print(Obj1.Name,Obj1.max_speed, Obj1.mileage,Obj1.color)\n",
        "Obj2= Vehicle(\"Car\",125, 15)\n",
        "print(Obj2.Name,Obj2.max_speed, Obj2.mileage,Obj2.color)"
      ],
      "metadata": {
        "colab": {
          "base_uri": "https://localhost:8080/"
        },
        "id": "5NXFEznIKjpc",
        "outputId": "8e73bba8-bba5-403a-e6fb-4b21648751d0"
      },
      "execution_count": 14,
      "outputs": [
        {
          "output_type": "stream",
          "name": "stdout",
          "text": [
            "Motor Bike 100 30 red\n",
            "Car 125 15 red\n"
          ]
        }
      ]
    },
    {
      "cell_type": "code",
      "source": [
        "#3.Create a child class 'Bus' that will inherit all of the variables and methods of the Vehicle class\n",
        "class Veghicle:\n",
        "\n",
        "    def __init__(self, Name, max_speed, mileage):\n",
        "        self.name = Name\n",
        "        self.max_speed = max_speed\n",
        "        self.mileage = mileage\n",
        "\n",
        "class Bus(Vehicle):\n",
        "  pass\n",
        "\n",
        "Bus_obj1 = Bus(\"Scorpio\", 100, 30)\n",
        "print(\"Vehicle Name:\", Bus_obj1.Name, \"Speed:\", Bus_obj1.max_speed, \"Mileage:\", Bus_obj1.mileage)"
      ],
      "metadata": {
        "colab": {
          "base_uri": "https://localhost:8080/"
        },
        "id": "nccOdwrIK5WJ",
        "outputId": "4de243bc-3a59-4c79-ebd2-242d16709033"
      },
      "execution_count": 7,
      "outputs": [
        {
          "output_type": "stream",
          "name": "stdout",
          "text": [
            "Vehicle Name: Scorpio Speed: 100 Mileage: 30\n"
          ]
        }
      ]
    },
    {
      "cell_type": "code",
      "source": [
        "#4.create an object for child class i.e Bus and check whether the object is an instance of the Vehicle Class\n",
        "class Veghicle:\n",
        "\n",
        "    def __init__(self, Name, max_speed, mileage):\n",
        "        self.name = Name\n",
        "        self.max_speed = max_speed\n",
        "        self.mileage = mileage\n",
        "\n",
        "class Bus(Vehicle):\n",
        "  pass\n",
        "\n",
        "Bus_obj1 = Bus(\"Scorpio\", 100, 30)\n",
        "print(isinstance(Bus_obj1, Vehicle))"
      ],
      "metadata": {
        "colab": {
          "base_uri": "https://localhost:8080/"
        },
        "id": "M8uDi2qGNL6I",
        "outputId": "1f4b5867-b503-4890-ac1d-1ed33efd62e9"
      },
      "execution_count": 9,
      "outputs": [
        {
          "output_type": "stream",
          "name": "stdout",
          "text": [
            "True\n"
          ]
        }
      ]
    },
    {
      "cell_type": "code",
      "source": [
        "#5. Check whether Bus class is a subclass of Vehicle class\n",
        "Bus_obj1 = Bus(\"Scorpio\", 100, 30)\n",
        "print(issubclass( Bus,Vehicle))\n"
      ],
      "metadata": {
        "colab": {
          "base_uri": "https://localhost:8080/"
        },
        "id": "g7n1C_h9PWaN",
        "outputId": "d535bc30-4272-4e59-8123-05ed76d1b346"
      },
      "execution_count": 13,
      "outputs": [
        {
          "output_type": "stream",
          "name": "stdout",
          "text": [
            "True\n"
          ]
        }
      ]
    },
    {
      "cell_type": "code",
      "source": [
        "#6.Create an empty class called Car, check whether Car is a sub class of Vehicle Class\n",
        "class Car:\n",
        "  pass\n",
        "print(issubclass( Car,Vehicle))\n"
      ],
      "metadata": {
        "colab": {
          "base_uri": "https://localhost:8080/"
        },
        "id": "Qh9kzVIzPzY_",
        "outputId": "9f65f5ee-a670-4b73-85fd-0d59c07a8a35"
      },
      "execution_count": 18,
      "outputs": [
        {
          "output_type": "stream",
          "name": "stdout",
          "text": [
            "False\n"
          ]
        }
      ]
    },
    {
      "cell_type": "code",
      "source": [],
      "metadata": {
        "id": "1zkBwKg3TAid"
      },
      "execution_count": null,
      "outputs": []
    }
  ]
}