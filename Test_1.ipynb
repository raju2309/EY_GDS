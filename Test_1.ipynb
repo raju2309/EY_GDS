{
  "nbformat": 4,
  "nbformat_minor": 0,
  "metadata": {
    "colab": {
      "provenance": [],
      "collapsed_sections": [],
      "authorship_tag": "ABX9TyMHvu4sIuGG8u0Hp6h/Ae9D",
      "include_colab_link": true
    },
    "kernelspec": {
      "name": "python3",
      "display_name": "Python 3"
    },
    "language_info": {
      "name": "python"
    }
  },
  "cells": [
    {
      "cell_type": "markdown",
      "metadata": {
        "id": "view-in-github",
        "colab_type": "text"
      },
      "source": [
        "<a href=\"https://colab.research.google.com/github/raju2309/EY_GDS/blob/main/Test_1.ipynb\" target=\"_parent\"><img src=\"https://colab.research.google.com/assets/colab-badge.svg\" alt=\"Open In Colab\"/></a>"
      ]
    },
    {
      "cell_type": "code",
      "execution_count": null,
      "metadata": {
        "colab": {
          "base_uri": "https://localhost:8080/"
        },
        "id": "vVyx5ypm3uS9",
        "outputId": "3598feb1-ade3-4292-b74c-81573c903f3a"
      },
      "outputs": [
        {
          "output_type": "stream",
          "name": "stdout",
          "text": [
            "Enter 10 numbers\n",
            "5\n",
            "2\n",
            "9\n",
            "4\n",
            "7\n",
            "85\n",
            "36\n",
            "41\n",
            "25\n",
            "14\n",
            "5\n",
            "Number Found at index 0\n"
          ]
        }
      ],
      "source": [
        "#1.Conduct linear serach after taking a number from the user\n",
        "#Linear Serach\n",
        "\n",
        "list1 =[]\n",
        "print('Enter 10 numbers')\n",
        "for i in range(10):\n",
        "  list1.insert(i,int(input()))\n",
        "a= int(input())\n",
        "for i in range(10):\n",
        "  if a==list1[i]:\n",
        "    index=i\n",
        "    break\n",
        "print('Number Found at index', i)\n"
      ]
    },
    {
      "cell_type": "code",
      "source": [
        "#2.Conduct binary search after taking a number from the user\n",
        "#Binary Search\n",
        "list2 = []\n",
        "print(\"Enter 10 Numbers\")\n",
        "for i in range(10):\n",
        "    list2.insert(i, int(input()))\n",
        "print(\"Enter a Number to Search:\")\n",
        "b = int(input())\n",
        "first = 0\n",
        "last = 9\n",
        "middle = (first+last)/2\n",
        "middle = int(middle)\n",
        "while first <= last:\n",
        "    if list2[middle]< b:\n",
        "        first = middle+1\n",
        "    elif list2[middle]==b:\n",
        "        print(\"The Number Found at Position:\", middle+1)\n",
        "        break\n",
        "    else:\n",
        "        last = middle-1\n",
        "    middle = (first+last)/2\n",
        "    middle = int(middle)\n",
        "if first>last:\n",
        "    print(\"The Number is not Found in the List\")"
      ],
      "metadata": {
        "colab": {
          "base_uri": "https://localhost:8080/"
        },
        "id": "Q9U-wtk88L-J",
        "outputId": "250b0142-8d71-42b8-d472-9f0ead20a72a"
      },
      "execution_count": null,
      "outputs": [
        {
          "output_type": "stream",
          "name": "stdout",
          "text": [
            "Enter 10 Numbers\n",
            "4\n",
            "1\n",
            "2\n",
            "3\n",
            "5\n",
            "6\n",
            "7\n",
            "8\n",
            "9\n",
            "0\n",
            "Enter a Number to Search:\n",
            "5\n",
            "The Number Found at Position: 5\n"
          ]
        }
      ]
    },
    {
      "cell_type": "code",
      "source": [
        "#3.Conduct bubble sorting after taking a number from the user\n",
        "#Bubble Sort\n",
        "list3 = []\n",
        "print(\"Enter the Size of List: \")\n",
        "c = int(input())\n",
        "\n",
        "for i in range(c):\n",
        "    list3.insert(i, int(input()))\n",
        "\n",
        "for i in range(c-1):\n",
        "    for j in range(c-i-1):\n",
        "        if list3[j]>list3[j+1]:\n",
        "            temp = list3[j]\n",
        "            list3[j] = list3[j+1]\n",
        "            list3[j+1] = temp\n",
        "\n",
        "print(\"The Sorted List is:\")\n",
        "for i in range(c):\n",
        "    print(list3[i])"
      ],
      "metadata": {
        "colab": {
          "base_uri": "https://localhost:8080/"
        },
        "id": "3xFuU-im-TAE",
        "outputId": "bb65b8d5-cee4-47d7-d512-ddbbd217223c"
      },
      "execution_count": null,
      "outputs": [
        {
          "output_type": "stream",
          "name": "stdout",
          "text": [
            "Enter the Size of List: \n",
            "8\n",
            "5\n",
            "45\n",
            "2\n",
            "8\n",
            "7\n",
            "6\n",
            "48\n",
            "25\n",
            "The Sorted List is:\n",
            "2\n",
            "5\n",
            "6\n",
            "7\n",
            "8\n",
            "25\n",
            "45\n",
            "48\n"
          ]
        }
      ]
    },
    {
      "cell_type": "code",
      "source": [
        "#4.Explain in a paragraph what is bubble sorting?\n",
        "\n",
        "#Bubble sort is a simple sorting algorithm. This sorting algorithm is comparison-based algorithm in which each pair of adjacent elements is compared and the elements are swapped if they are not in order.\n",
        "#If we want to sort list in ascending order..........\n",
        "#1.Start from the first index, compare the first and the second elements.\n",
        "#2.If the first element is greater than the second element, they are swapped.\n",
        "#3.Now, compare the second and the third elements. Swap them if they are not in order.\n",
        "#4.Repeat the  process  until the last element.\n"
      ],
      "metadata": {
        "id": "p7Xa7GjeBObn"
      },
      "execution_count": null,
      "outputs": []
    },
    {
      "cell_type": "code",
      "source": [
        "#5.Find mean, median and mode of the dataset.\n",
        "#Mean \n",
        "list4 = []\n",
        "print(\"Enter 10 Numbers\")\n",
        "for i in range(10):\n",
        "\n",
        "  list4.insert(i, int(input()))\n",
        "\n",
        "Total_sum = sum(list4)\n",
        "mean = Total_sum / 10\n",
        "print(mean)"
      ],
      "metadata": {
        "colab": {
          "base_uri": "https://localhost:8080/"
        },
        "id": "5R27ZSvTChLu",
        "outputId": "1311734d-4192-4fbc-fcdb-530dee3bd678"
      },
      "execution_count": null,
      "outputs": [
        {
          "output_type": "stream",
          "name": "stdout",
          "text": [
            "Enter 10 Numbers\n",
            "5\n",
            "8\n",
            "4\n",
            "5\n",
            "9\n",
            "7\n",
            "6\n",
            "4\n",
            "8\n",
            "25\n",
            "8.1\n"
          ]
        }
      ]
    },
    {
      "cell_type": "code",
      "source": [
        "#Median\n",
        "list5 = []\n",
        "print(\"Enter 10 Numbers\")\n",
        "for i in range(10):\n",
        "\n",
        "  list5.insert(i, int(input()))\n",
        "# Sort the list\n",
        "list5.sort()\n",
        "# Finding the position of the median\n",
        "if len(list5) % 2 == 0:\n",
        "   first_median = list5[len(list5) // 2]\n",
        "   second_median = list5[len(list5) // 2 - 1]\n",
        "   median = (first_median + second_median) / 2\n",
        "else:\n",
        "   median = list5[len(list5) // 2]\n",
        "print(median)"
      ],
      "metadata": {
        "colab": {
          "base_uri": "https://localhost:8080/"
        },
        "id": "u2hJ89jPDDi5",
        "outputId": "2716755f-7440-4583-bd3a-780af5f7c859"
      },
      "execution_count": null,
      "outputs": [
        {
          "output_type": "stream",
          "name": "stdout",
          "text": [
            "Enter 10 Numbers\n",
            "2\n",
            "8\n",
            "6\n",
            "7\n",
            "9\n",
            "8\n",
            "75\n",
            "14\n",
            "21\n",
            "12\n",
            "8.5\n"
          ]
        }
      ]
    },
    {
      "cell_type": "code",
      "source": [
        "#Mode\n",
        "list6 = []\n",
        "count1 = 0\n",
        "print(\"Enter 10 Numbers\")\n",
        "for i in range(10):\n",
        "\n",
        "  list6.insert(i, int(input()))\n",
        "  \n",
        "  \n",
        "num1 = list6[0]\n",
        "for i in range (10):\n",
        "  curr_frequency = list6.count(i)\n",
        "  if(curr_frequency> count1):\n",
        "    count1 = curr_frequency\n",
        "    num1 = i\n",
        " \n",
        "print(num1)"
      ],
      "metadata": {
        "colab": {
          "base_uri": "https://localhost:8080/"
        },
        "id": "ShQ9T3LuGCrK",
        "outputId": "6cec6893-0230-4f0e-865e-c3cc14586492"
      },
      "execution_count": null,
      "outputs": [
        {
          "output_type": "stream",
          "name": "stdout",
          "text": [
            "Enter 10 Numbers\n",
            "2\n",
            "2\n",
            "2\n",
            "5\n",
            "2\n",
            "5\n",
            "7\n",
            "2\n",
            "9\n",
            "2\n",
            "2\n"
          ]
        }
      ]
    },
    {
      "cell_type": "code",
      "source": [
        "#6.Find all prime numbers in the list.\n",
        "list7 = []\n",
        "print(\"Enter 10 Numbers\")\n",
        "for k in range(10):\n",
        "  list7.insert(k, int(input()))\n",
        "\n",
        "\n",
        "for num in list7:\n",
        "  if num > 1:\n",
        "    for j in range(2,num):\n",
        "      if (num%j)==0:\n",
        "\n",
        "        break\n",
        "    else:\n",
        "      print(\"Prime Numbers are:\",num)\n",
        "\n",
        "\n",
        "\n",
        "\n",
        "\n"
      ],
      "metadata": {
        "colab": {
          "base_uri": "https://localhost:8080/"
        },
        "id": "gChUUXpRLGom",
        "outputId": "58d66b8d-4ee9-405f-9c67-3d565560f60e"
      },
      "execution_count": null,
      "outputs": [
        {
          "output_type": "stream",
          "name": "stdout",
          "text": [
            "Enter 10 Numbers\n",
            "25\n",
            "15\n",
            "11\n",
            "134\n",
            "117\n",
            "13\n",
            "19\n",
            "23\n",
            "45\n",
            "28\n",
            "Prime Numbers are: 11\n",
            "Prime Numbers are: 13\n",
            "Prime Numbers are: 19\n",
            "Prime Numbers are: 23\n"
          ]
        }
      ]
    },
    {
      "cell_type": "code",
      "source": [
        "\n"
      ],
      "metadata": {
        "id": "cfJ5bgJESotn"
      },
      "execution_count": null,
      "outputs": []
    }
  ]
}