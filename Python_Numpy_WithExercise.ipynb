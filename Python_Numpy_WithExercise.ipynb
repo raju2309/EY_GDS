{
  "nbformat": 4,
  "nbformat_minor": 0,
  "metadata": {
    "colab": {
      "provenance": [],
      "authorship_tag": "ABX9TyOrMSeQRxFriK02GAIXcNzk",
      "include_colab_link": true
    },
    "kernelspec": {
      "name": "python3",
      "display_name": "Python 3"
    },
    "language_info": {
      "name": "python"
    }
  },
  "cells": [
    {
      "cell_type": "markdown",
      "metadata": {
        "id": "view-in-github",
        "colab_type": "text"
      },
      "source": [
        "<a href=\"https://colab.research.google.com/github/raju2309/EY_GDS/blob/main/Python_Numpy_WithExercise.ipynb\" target=\"_parent\"><img src=\"https://colab.research.google.com/assets/colab-badge.svg\" alt=\"Open In Colab\"/></a>"
      ]
    },
    {
      "cell_type": "code",
      "execution_count": 1,
      "metadata": {
        "id": "rPr1hn2JWs_7"
      },
      "outputs": [],
      "source": [
        "#The first thing we want to do is import numpy.\n",
        "import numpy as np"
      ]
    },
    {
      "cell_type": "code",
      "source": [
        "#Let us first define a Python list containing the ages of 6 people.\n",
        "age = [23,34,55,76,87]\n",
        "age"
      ],
      "metadata": {
        "colab": {
          "base_uri": "https://localhost:8080/"
        },
        "id": "V9wfQlcWX59w",
        "outputId": "b73af402-5a91-49fc-ff3a-974fbf3a1fc5"
      },
      "execution_count": 2,
      "outputs": [
        {
          "output_type": "execute_result",
          "data": {
            "text/plain": [
              "[23, 34, 55, 76, 87]"
            ]
          },
          "metadata": {},
          "execution_count": 2
        }
      ]
    },
    {
      "cell_type": "code",
      "source": [
        "#There are 3 main ways to instantiate a Numpy ndarray object. One of these is to use np.array(<collection>)\n",
        "age1 = np.array(age)\n",
        "print(type(age1))\n",
        "print(age1)"
      ],
      "metadata": {
        "colab": {
          "base_uri": "https://localhost:8080/"
        },
        "id": "4XIZ7EgEYP9N",
        "outputId": "2056c63a-5d77-4ac2-b963-9e0f95633938"
      },
      "execution_count": 3,
      "outputs": [
        {
          "output_type": "stream",
          "name": "stdout",
          "text": [
            "<class 'numpy.ndarray'>\n",
            "[23 34 55 76 87]\n"
          ]
        }
      ]
    },
    {
      "cell_type": "code",
      "source": [
        "print(age1)\n",
        "print(\"Size:\\t\" , age1.size)\n",
        "print(\"Shape:\\t\", age1.shape)"
      ],
      "metadata": {
        "colab": {
          "base_uri": "https://localhost:8080/"
        },
        "id": "GsVLCfTAYgPy",
        "outputId": "7512fa3d-adc8-47d4-94a1-72a521d84ec3"
      },
      "execution_count": 4,
      "outputs": [
        {
          "output_type": "stream",
          "name": "stdout",
          "text": [
            "[23 34 55 76 87]\n",
            "Size:\t 5\n",
            "Shape:\t (5,)\n"
          ]
        }
      ]
    },
    {
      "cell_type": "code",
      "source": [
        "zero_Array = np.zeros(6)\n",
        "print(zero_Array)"
      ],
      "metadata": {
        "colab": {
          "base_uri": "https://localhost:8080/"
        },
        "id": "vz9EzZ0sYvWq",
        "outputId": "8f4d499a-2cdd-4180-ce6a-0f9c4997099e"
      },
      "execution_count": 6,
      "outputs": [
        {
          "output_type": "stream",
          "name": "stdout",
          "text": [
            "[0. 0. 0. 0. 0. 0.]\n"
          ]
        }
      ]
    },
    {
      "cell_type": "code",
      "source": [
        "#Multidimensional \n",
        "#Now let us define a new list containing the weights of these 6 people.\n",
        "Weight = [92,23,45,67,87]"
      ],
      "metadata": {
        "id": "GNb5QCYSbESP"
      },
      "execution_count": 11,
      "outputs": []
    },
    {
      "cell_type": "code",
      "source": [
        "#Now, we define an ndarray containing all fo this information, and again print the size and shape of the array.\n",
        "people = np.array([age, Weight])\n",
        "\n",
        "print(\"People:\\t\" , people)\n",
        "print(\"Size:\\t\" , people.size)\n",
        "print(\"Shape:\\t\", people.shape)\n"
      ],
      "metadata": {
        "colab": {
          "base_uri": "https://localhost:8080/"
        },
        "id": "xnWmOsgfbaJ-",
        "outputId": "25980ce6-7e86-44ab-f100-c93c07277fbc"
      },
      "execution_count": 13,
      "outputs": [
        {
          "output_type": "stream",
          "name": "stdout",
          "text": [
            "People:\t [[23 34 55 76 87]\n",
            " [92 23 45 67 87]]\n",
            "Size:\t 10\n",
            "Shape:\t (2, 5)\n"
          ]
        }
      ]
    },
    {
      "cell_type": "code",
      "source": [
        "#reshape\n",
        "people = people.reshape(5,2)\n",
        "print(\"People:\\t\" , people)\n",
        "print(\"Size:\\t\" , people.size)\n",
        "print(\"Shape:\\t\", people.shape)\n",
        "#Note: The new shape must be the same \"size\" as the old shape"
      ],
      "metadata": {
        "colab": {
          "base_uri": "https://localhost:8080/"
        },
        "id": "wzVzrbhqbu_Y",
        "outputId": "ed121648-2577-4138-8396-4b0ca3588572"
      },
      "execution_count": 21,
      "outputs": [
        {
          "output_type": "stream",
          "name": "stdout",
          "text": [
            "People:\t [[23 34]\n",
            " [55 76]\n",
            " [87 92]\n",
            " [23 45]\n",
            " [67 87]]\n",
            "Size:\t 10\n",
            "Shape:\t (5, 2)\n"
          ]
        }
      ]
    },
    {
      "cell_type": "code",
      "source": [
        "### Exercise\n",
        "Val1D = [7,9,65,33,85,99]"
      ],
      "metadata": {
        "id": "I_LJclLec7_L"
      },
      "execution_count": 22,
      "outputs": []
    },
    {
      "cell_type": "code",
      "source": [
        "Val1D = np.array(Val1D)\n",
        "Val1D"
      ],
      "metadata": {
        "colab": {
          "base_uri": "https://localhost:8080/"
        },
        "id": "fbbN5OjMfi-G",
        "outputId": "0672bab0-8b12-4d8b-bc27-30f73edcaad0"
      },
      "execution_count": 25,
      "outputs": [
        {
          "output_type": "execute_result",
          "data": {
            "text/plain": [
              "array([ 7,  9, 65, 33, 85, 99])"
            ]
          },
          "metadata": {},
          "execution_count": 25
        }
      ]
    },
    {
      "cell_type": "code",
      "source": [
        "Val2D = [1,2,4,2,3,0,0,5,1]"
      ],
      "metadata": {
        "id": "6ZrADhGLfp3P"
      },
      "execution_count": 24,
      "outputs": []
    },
    {
      "cell_type": "code",
      "source": [
        "Val2D = np.array(Val2D)\n",
        "Val2D"
      ],
      "metadata": {
        "colab": {
          "base_uri": "https://localhost:8080/"
        },
        "id": "58mn6gzpgKW1",
        "outputId": "53261c9e-77e8-4f32-de6b-7fd7df698373"
      },
      "execution_count": 26,
      "outputs": [
        {
          "output_type": "execute_result",
          "data": {
            "text/plain": [
              "array([1, 2, 4, 2, 3, 0, 0, 5, 1])"
            ]
          },
          "metadata": {},
          "execution_count": 26
        }
      ]
    },
    {
      "cell_type": "code",
      "source": [
        "Val2D = Val2D.reshape(3,3)\n",
        "Val2D\n",
        "#Exercise End"
      ],
      "metadata": {
        "colab": {
          "base_uri": "https://localhost:8080/"
        },
        "id": "BJHH8Duygh_O",
        "outputId": "cf173bf9-8728-4534-bef0-f07298f2c5bd"
      },
      "execution_count": 27,
      "outputs": [
        {
          "output_type": "execute_result",
          "data": {
            "text/plain": [
              "array([[1, 2, 4],\n",
              "       [2, 3, 0],\n",
              "       [0, 5, 1]])"
            ]
          },
          "metadata": {},
          "execution_count": 27
        }
      ]
    },
    {
      "cell_type": "code",
      "source": [
        "#Array Generation\n",
        "#Instead of defining an array manually, we can ask numpy to do it for us.\n",
        "\n",
        "#The np.arange() method creates a range of numbers with user defined steps between each.\n",
        "table= np.arange(0, 55, 5)\n",
        "table"
      ],
      "metadata": {
        "colab": {
          "base_uri": "https://localhost:8080/"
        },
        "id": "TLeYXNEhgs7u",
        "outputId": "98e480f3-3f79-4281-af40-53515891e5ce"
      },
      "execution_count": 28,
      "outputs": [
        {
          "output_type": "execute_result",
          "data": {
            "text/plain": [
              "array([ 0,  5, 10, 15, 20, 25, 30, 35, 40, 45, 50])"
            ]
          },
          "metadata": {},
          "execution_count": 28
        }
      ]
    },
    {
      "cell_type": "code",
      "source": [
        "#The np.linspace() method will produce a range of evenly spaced values, starting, ending, and taking as many steps as you specify.\n",
        "Even_spaced = np.linspace(0,50,21)\n",
        "print(Even_spaced)\n",
        "\n"
      ],
      "metadata": {
        "colab": {
          "base_uri": "https://localhost:8080/"
        },
        "id": "4i3jjR_fhHuS",
        "outputId": "fb858f84-9edb-4b99-cc1d-27ea573c4180"
      },
      "execution_count": 30,
      "outputs": [
        {
          "output_type": "stream",
          "name": "stdout",
          "text": [
            "[ 0.   2.5  5.   7.5 10.  12.5 15.  17.5 20.  22.5 25.  27.5 30.  32.5\n",
            " 35.  37.5 40.  42.5 45.  47.5 50. ]\n"
          ]
        }
      ]
    },
    {
      "cell_type": "code",
      "source": [
        "#The .repeat() method will repeat an object you pas a specified number of times.\n",
        "repeat= np.repeat(5, 10)\n",
        "repeat"
      ],
      "metadata": {
        "colab": {
          "base_uri": "https://localhost:8080/"
        },
        "id": "doYYwE70hXlv",
        "outputId": "61cf1f09-823b-4533-b91a-377ada91f2b6"
      },
      "execution_count": 32,
      "outputs": [
        {
          "output_type": "execute_result",
          "data": {
            "text/plain": [
              "array([5, 5, 5, 5, 5, 5, 5, 5, 5, 5])"
            ]
          },
          "metadata": {},
          "execution_count": 32
        }
      ]
    },
    {
      "cell_type": "code",
      "source": [
        "#The np.eye() functions will create an identity matrix/array for us.\n",
        "identity_matrix = np.eye(4)\n",
        "print(identity_matrix)"
      ],
      "metadata": {
        "colab": {
          "base_uri": "https://localhost:8080/"
        },
        "id": "YsoFqYA2hvFp",
        "outputId": "b810499d-ddf8-44c4-a875-f4e026bd3118"
      },
      "execution_count": 34,
      "outputs": [
        {
          "output_type": "stream",
          "name": "stdout",
          "text": [
            "[[1. 0. 0. 0.]\n",
            " [0. 1. 0. 0.]\n",
            " [0. 0. 1. 0.]\n",
            " [0. 0. 0. 1.]]\n"
          ]
        }
      ]
    },
    {
      "cell_type": "code",
      "source": [
        "#Operations\n",
        "#There are many, many operations which we can perform on arrays. Below, we demonstrate a few.\n",
        "table"
      ],
      "metadata": {
        "colab": {
          "base_uri": "https://localhost:8080/"
        },
        "id": "EjdbLs9Dh8Gw",
        "outputId": "32ac0c13-0dc4-4ff0-f980-4442f0b92c3a"
      },
      "execution_count": 35,
      "outputs": [
        {
          "output_type": "execute_result",
          "data": {
            "text/plain": [
              "array([ 0,  5, 10, 15, 20, 25, 30, 35, 40, 45, 50])"
            ]
          },
          "metadata": {},
          "execution_count": 35
        }
      ]
    },
    {
      "cell_type": "code",
      "source": [
        "print(\"1:\", 2 * table)\n",
        "print(\"2:\", 10 +table)\n",
        "print(\"3:\", table - 1)\n",
        "print(\"4:\", table/5)\n",
        "print(\"5:\", table **2)\n",
        "print(\"6:\", table < 20)"
      ],
      "metadata": {
        "colab": {
          "base_uri": "https://localhost:8080/"
        },
        "id": "RtGhklJliUEx",
        "outputId": "e050db78-94f6-43e7-e4f1-c293f600f44b"
      },
      "execution_count": 36,
      "outputs": [
        {
          "output_type": "stream",
          "name": "stdout",
          "text": [
            "1: [  0  10  20  30  40  50  60  70  80  90 100]\n",
            "2: [10 15 20 25 30 35 40 45 50 55 60]\n",
            "3: [-1  4  9 14 19 24 29 34 39 44 49]\n",
            "4: [ 0.  1.  2.  3.  4.  5.  6.  7.  8.  9. 10.]\n",
            "5: [   0   25  100  225  400  625  900 1225 1600 2025 2500]\n",
            "6: [ True  True  True  True False False False False False False False]\n"
          ]
        }
      ]
    },
    {
      "cell_type": "code",
      "source": [
        "#Speed Test\n",
        "#If we compare the speed at which we can do these operations compared to core python, we will notice a substantial difference.\n",
        "list2 = list(range(0,5001,30))\n",
        "list2"
      ],
      "metadata": {
        "colab": {
          "base_uri": "https://localhost:8080/"
        },
        "id": "7KfKJbb8iig6",
        "outputId": "b5aa1c6d-cad5-431e-acd9-bd114c654a00"
      },
      "execution_count": 37,
      "outputs": [
        {
          "output_type": "execute_result",
          "data": {
            "text/plain": [
              "[0,\n",
              " 30,\n",
              " 60,\n",
              " 90,\n",
              " 120,\n",
              " 150,\n",
              " 180,\n",
              " 210,\n",
              " 240,\n",
              " 270,\n",
              " 300,\n",
              " 330,\n",
              " 360,\n",
              " 390,\n",
              " 420,\n",
              " 450,\n",
              " 480,\n",
              " 510,\n",
              " 540,\n",
              " 570,\n",
              " 600,\n",
              " 630,\n",
              " 660,\n",
              " 690,\n",
              " 720,\n",
              " 750,\n",
              " 780,\n",
              " 810,\n",
              " 840,\n",
              " 870,\n",
              " 900,\n",
              " 930,\n",
              " 960,\n",
              " 990,\n",
              " 1020,\n",
              " 1050,\n",
              " 1080,\n",
              " 1110,\n",
              " 1140,\n",
              " 1170,\n",
              " 1200,\n",
              " 1230,\n",
              " 1260,\n",
              " 1290,\n",
              " 1320,\n",
              " 1350,\n",
              " 1380,\n",
              " 1410,\n",
              " 1440,\n",
              " 1470,\n",
              " 1500,\n",
              " 1530,\n",
              " 1560,\n",
              " 1590,\n",
              " 1620,\n",
              " 1650,\n",
              " 1680,\n",
              " 1710,\n",
              " 1740,\n",
              " 1770,\n",
              " 1800,\n",
              " 1830,\n",
              " 1860,\n",
              " 1890,\n",
              " 1920,\n",
              " 1950,\n",
              " 1980,\n",
              " 2010,\n",
              " 2040,\n",
              " 2070,\n",
              " 2100,\n",
              " 2130,\n",
              " 2160,\n",
              " 2190,\n",
              " 2220,\n",
              " 2250,\n",
              " 2280,\n",
              " 2310,\n",
              " 2340,\n",
              " 2370,\n",
              " 2400,\n",
              " 2430,\n",
              " 2460,\n",
              " 2490,\n",
              " 2520,\n",
              " 2550,\n",
              " 2580,\n",
              " 2610,\n",
              " 2640,\n",
              " 2670,\n",
              " 2700,\n",
              " 2730,\n",
              " 2760,\n",
              " 2790,\n",
              " 2820,\n",
              " 2850,\n",
              " 2880,\n",
              " 2910,\n",
              " 2940,\n",
              " 2970,\n",
              " 3000,\n",
              " 3030,\n",
              " 3060,\n",
              " 3090,\n",
              " 3120,\n",
              " 3150,\n",
              " 3180,\n",
              " 3210,\n",
              " 3240,\n",
              " 3270,\n",
              " 3300,\n",
              " 3330,\n",
              " 3360,\n",
              " 3390,\n",
              " 3420,\n",
              " 3450,\n",
              " 3480,\n",
              " 3510,\n",
              " 3540,\n",
              " 3570,\n",
              " 3600,\n",
              " 3630,\n",
              " 3660,\n",
              " 3690,\n",
              " 3720,\n",
              " 3750,\n",
              " 3780,\n",
              " 3810,\n",
              " 3840,\n",
              " 3870,\n",
              " 3900,\n",
              " 3930,\n",
              " 3960,\n",
              " 3990,\n",
              " 4020,\n",
              " 4050,\n",
              " 4080,\n",
              " 4110,\n",
              " 4140,\n",
              " 4170,\n",
              " 4200,\n",
              " 4230,\n",
              " 4260,\n",
              " 4290,\n",
              " 4320,\n",
              " 4350,\n",
              " 4380,\n",
              " 4410,\n",
              " 4440,\n",
              " 4470,\n",
              " 4500,\n",
              " 4530,\n",
              " 4560,\n",
              " 4590,\n",
              " 4620,\n",
              " 4650,\n",
              " 4680,\n",
              " 4710,\n",
              " 4740,\n",
              " 4770,\n",
              " 4800,\n",
              " 4830,\n",
              " 4860,\n",
              " 4890,\n",
              " 4920,\n",
              " 4950,\n",
              " 4980]"
            ]
          },
          "metadata": {},
          "execution_count": 37
        }
      ]
    },
    {
      "cell_type": "code",
      "source": [
        "arr1= np.arange(0,5001,30)\n",
        "arr1"
      ],
      "metadata": {
        "colab": {
          "base_uri": "https://localhost:8080/"
        },
        "id": "CDUTXka7kOMh",
        "outputId": "1f06025a-84e1-401d-e7b3-e84a71df7d19"
      },
      "execution_count": 39,
      "outputs": [
        {
          "output_type": "execute_result",
          "data": {
            "text/plain": [
              "array([   0,   30,   60,   90,  120,  150,  180,  210,  240,  270,  300,\n",
              "        330,  360,  390,  420,  450,  480,  510,  540,  570,  600,  630,\n",
              "        660,  690,  720,  750,  780,  810,  840,  870,  900,  930,  960,\n",
              "        990, 1020, 1050, 1080, 1110, 1140, 1170, 1200, 1230, 1260, 1290,\n",
              "       1320, 1350, 1380, 1410, 1440, 1470, 1500, 1530, 1560, 1590, 1620,\n",
              "       1650, 1680, 1710, 1740, 1770, 1800, 1830, 1860, 1890, 1920, 1950,\n",
              "       1980, 2010, 2040, 2070, 2100, 2130, 2160, 2190, 2220, 2250, 2280,\n",
              "       2310, 2340, 2370, 2400, 2430, 2460, 2490, 2520, 2550, 2580, 2610,\n",
              "       2640, 2670, 2700, 2730, 2760, 2790, 2820, 2850, 2880, 2910, 2940,\n",
              "       2970, 3000, 3030, 3060, 3090, 3120, 3150, 3180, 3210, 3240, 3270,\n",
              "       3300, 3330, 3360, 3390, 3420, 3450, 3480, 3510, 3540, 3570, 3600,\n",
              "       3630, 3660, 3690, 3720, 3750, 3780, 3810, 3840, 3870, 3900, 3930,\n",
              "       3960, 3990, 4020, 4050, 4080, 4110, 4140, 4170, 4200, 4230, 4260,\n",
              "       4290, 4320, 4350, 4380, 4410, 4440, 4470, 4500, 4530, 4560, 4590,\n",
              "       4620, 4650, 4680, 4710, 4740, 4770, 4800, 4830, 4860, 4890, 4920,\n",
              "       4950, 4980])"
            ]
          },
          "metadata": {},
          "execution_count": 39
        }
      ]
    },
    {
      "cell_type": "code",
      "source": [
        "%timeit arr1 + 5"
      ],
      "metadata": {
        "colab": {
          "base_uri": "https://localhost:8080/"
        },
        "id": "yh0s_Ziik4Ec",
        "outputId": "bd212533-d043-457d-a059-a508f0c4cbd1"
      },
      "execution_count": 40,
      "outputs": [
        {
          "output_type": "stream",
          "name": "stdout",
          "text": [
            "970 ns ± 15.8 ns per loop (mean ± std. dev. of 7 runs, 1000000 loops each)\n"
          ]
        }
      ]
    },
    {
      "cell_type": "code",
      "source": [
        "%timeit [i + 5 for i in list2]"
      ],
      "metadata": {
        "colab": {
          "base_uri": "https://localhost:8080/"
        },
        "id": "0fDJbzGUlIlC",
        "outputId": "c07e3708-0423-4d79-83f2-6db78aaa4258"
      },
      "execution_count": 41,
      "outputs": [
        {
          "output_type": "stream",
          "name": "stdout",
          "text": [
            "10.7 µs ± 72.3 ns per loop (mean ± std. dev. of 7 runs, 100000 loops each)\n"
          ]
        }
      ]
    },
    {
      "cell_type": "code",
      "source": [
        "#Boolean string operations can also be performed on ndarrays.\n",
        "words = np.array([\"ten\", \"nine\", \"eight\", \"seven\", \"six\",\"e\"])\n",
        "\n",
        "print(np.isin(words, 'e'))\n",
        "\n",
        "print(\"e\" in words)\n",
        "[\"e\" in x for x in words]"
      ],
      "metadata": {
        "colab": {
          "base_uri": "https://localhost:8080/"
        },
        "id": "pro8c7LTlUDG",
        "outputId": "101b84d8-3edf-4cd6-c59a-0785d5d6100e"
      },
      "execution_count": 44,
      "outputs": [
        {
          "output_type": "stream",
          "name": "stdout",
          "text": [
            "[False False False False False  True]\n",
            "True\n"
          ]
        },
        {
          "output_type": "execute_result",
          "data": {
            "text/plain": [
              "[True, True, True, True, False, True]"
            ]
          },
          "metadata": {},
          "execution_count": 44
        }
      ]
    },
    {
      "cell_type": "code",
      "source": [
        "#Transpose\n",
        "people\n",
        "people.shape = (2, 5)\n",
        "print(people, \"\\n\")\n",
        "print(people.T)"
      ],
      "metadata": {
        "colab": {
          "base_uri": "https://localhost:8080/"
        },
        "id": "FqHPy6-Ilryh",
        "outputId": "c8243170-675f-4cb1-ac5a-402653120d9d"
      },
      "execution_count": 48,
      "outputs": [
        {
          "output_type": "stream",
          "name": "stdout",
          "text": [
            "[[23 34 55 76 87]\n",
            " [92 23 45 67 87]] \n",
            "\n",
            "[[23 92]\n",
            " [34 23]\n",
            " [55 45]\n",
            " [76 67]\n",
            " [87 87]]\n"
          ]
        }
      ]
    },
    {
      "cell_type": "code",
      "source": [
        "#As previously mentioned, ndarrays can only have one data type. If we want to obtain or change this, we use the .dtype attribute.\n",
        "people.dtype"
      ],
      "metadata": {
        "colab": {
          "base_uri": "https://localhost:8080/"
        },
        "id": "H-dK4caBm2Zr",
        "outputId": "58d4467f-ac02-40f9-98b0-0e4bf2fc2b99"
      },
      "execution_count": 49,
      "outputs": [
        {
          "output_type": "execute_result",
          "data": {
            "text/plain": [
              "dtype('int64')"
            ]
          },
          "metadata": {},
          "execution_count": 49
        }
      ]
    },
    {
      "cell_type": "code",
      "source": [
        "#What is the data type of the below ndarray?\n",
        "ages_with_strings = np.array([11, 5, 8, '21', '62', '40'])\n",
        "ages_with_strings"
      ],
      "metadata": {
        "colab": {
          "base_uri": "https://localhost:8080/"
        },
        "id": "fk88IaNOnXmU",
        "outputId": "78def4f8-b119-4b69-fbc6-056b6125d756"
      },
      "execution_count": 51,
      "outputs": [
        {
          "output_type": "execute_result",
          "data": {
            "text/plain": [
              "array(['11', '5', '8', '21', '62', '40'], dtype='<U21')"
            ]
          },
          "metadata": {},
          "execution_count": 51
        }
      ]
    },
    {
      "cell_type": "code",
      "source": [
        "#What is the dtype of this array?\n",
        "ages_with_strings = np.array([11, 5, 8, '21', '62', '40'],dtype = 'int32')\n",
        "ages_with_strings"
      ],
      "metadata": {
        "colab": {
          "base_uri": "https://localhost:8080/"
        },
        "id": "0T72Bm1wnje_",
        "outputId": "78a02609-73bc-45bf-b6d8-345ffe311fb6"
      },
      "execution_count": 55,
      "outputs": [
        {
          "output_type": "execute_result",
          "data": {
            "text/plain": [
              "array([11,  5,  8, 21, 62, 40], dtype=int32)"
            ]
          },
          "metadata": {},
          "execution_count": 55
        }
      ]
    },
    {
      "cell_type": "code",
      "source": [
        "ages_with_strings = np.array([11, 5, 8, '21', '62', '40'])\n",
        "ages_with_strings"
      ],
      "metadata": {
        "colab": {
          "base_uri": "https://localhost:8080/"
        },
        "id": "hfkgN-kaoFpc",
        "outputId": "83dda7d1-deb3-4a77-9f27-302de2ab006c"
      },
      "execution_count": 56,
      "outputs": [
        {
          "output_type": "execute_result",
          "data": {
            "text/plain": [
              "array(['11', '5', '8', '21', '62', '40'], dtype='<U21')"
            ]
          },
          "metadata": {},
          "execution_count": 56
        }
      ]
    },
    {
      "cell_type": "code",
      "source": [
        "ages_with_strings.dtype = 'int32'\n",
        "print(ages_with_strings)"
      ],
      "metadata": {
        "colab": {
          "base_uri": "https://localhost:8080/"
        },
        "id": "2C2TMIatoOhR",
        "outputId": "b0fdbb6d-6de8-4670-a01e-70355d8dc9be"
      },
      "execution_count": 65,
      "outputs": [
        {
          "output_type": "stream",
          "name": "stdout",
          "text": [
            "[49 56  0  0  0  0  0  0  0  0  0  0  0  0  0  0  0  0  0  0  0 57  0  0\n",
            "  0  0  0  0  0  0  0  0  0  0  0  0  0  0  0  0  0  0 49 50  0  0  0  0\n",
            "  0  0  0  0  0  0  0  0  0  0  0  0  0  0  0 51 50  0  0  0  0  0  0  0\n",
            "  0  0  0  0  0  0  0  0  0  0  0  0 54 53  0  0  0  0  0  0  0  0  0  0\n",
            "  0  0  0  0  0  0  0  0  0 52 51  0  0  0  0  0  0  0  0  0  0  0  0  0\n",
            "  0  0  0  0  0  0]\n"
          ]
        }
      ]
    },
    {
      "cell_type": "code",
      "source": [
        "ages_with_strings.size"
      ],
      "metadata": {
        "colab": {
          "base_uri": "https://localhost:8080/"
        },
        "id": "kZjQ2UYyoXFV",
        "outputId": "a10d34ab-fca8-4688-a4e2-ed03fc6575f8"
      },
      "execution_count": 58,
      "outputs": [
        {
          "output_type": "execute_result",
          "data": {
            "text/plain": [
              "126"
            ]
          },
          "metadata": {},
          "execution_count": 58
        }
      ]
    },
    {
      "cell_type": "code",
      "source": [
        "ages_with_strings.size/21"
      ],
      "metadata": {
        "colab": {
          "base_uri": "https://localhost:8080/"
        },
        "id": "iICz4NjhqF9_",
        "outputId": "dac540aa-a3dc-4b80-e48c-db9bddf9063a"
      },
      "execution_count": 59,
      "outputs": [
        {
          "output_type": "execute_result",
          "data": {
            "text/plain": [
              "6.0"
            ]
          },
          "metadata": {},
          "execution_count": 59
        }
      ]
    },
    {
      "cell_type": "code",
      "source": [
        "np.array([10, 5, 8, '32', '65', '43']).size"
      ],
      "metadata": {
        "colab": {
          "base_uri": "https://localhost:8080/"
        },
        "id": "862QR2r_qJJg",
        "outputId": "6b4d93d3-5b6b-4135-8726-5b57eca6a579"
      },
      "execution_count": 60,
      "outputs": [
        {
          "output_type": "execute_result",
          "data": {
            "text/plain": [
              "6"
            ]
          },
          "metadata": {},
          "execution_count": 60
        }
      ]
    },
    {
      "cell_type": "code",
      "source": [
        "#The correct way to have changed the data type of the ndarray would have been to use the .astype() method, demonstrated below.\n",
        "ages_with_strings = np.array([18, 9, 12, '32', '65', '43'])\n",
        "print(ages_with_strings)\n",
        "print(ages_with_strings.astype('int32'))"
      ],
      "metadata": {
        "colab": {
          "base_uri": "https://localhost:8080/"
        },
        "id": "WYk8FXlsqMD1",
        "outputId": "25c5a7cf-6893-48de-ed09-a91077d2a270"
      },
      "execution_count": 63,
      "outputs": [
        {
          "output_type": "stream",
          "name": "stdout",
          "text": [
            "['18' '9' '12' '32' '65' '43']\n",
            "[18  9 12 32 65 43]\n"
          ]
        }
      ]
    },
    {
      "cell_type": "code",
      "source": [
        "#Exercise\n",
        "#Create an array of string numbers, but use dtype to make it an array of floats.\n",
        "#Transpose the matrix, printing the new size and shape.\n",
        "#Use the .astype() method to convert the array to boolean.\n",
        "\n",
        "array_strings = np.array(['18', '9', '12', '32', '65', '43'],dtype='float32')\n",
        "array_strings\n",
        "array_strings.shape = (2,3)\n",
        "array_strings\n",
        "print(array_strings.T)\n",
        "print(array_strings.astype('bool'))"
      ],
      "metadata": {
        "colab": {
          "base_uri": "https://localhost:8080/"
        },
        "id": "QMGFwQVjq-JG",
        "outputId": "0a992962-f04d-44c5-8acb-fbaef80bb288"
      },
      "execution_count": 72,
      "outputs": [
        {
          "output_type": "stream",
          "name": "stdout",
          "text": [
            "[[18. 32.]\n",
            " [ 9. 65.]\n",
            " [12. 43.]]\n",
            "[[ True  True  True]\n",
            " [ True  True  True]]\n"
          ]
        }
      ]
    },
    {
      "cell_type": "code",
      "source": [
        "#Array Slicing Operations\n",
        "#As before, we can use square brackets and indices to access individual values, and the colon operator to slice the array.\n",
        "table"
      ],
      "metadata": {
        "colab": {
          "base_uri": "https://localhost:8080/"
        },
        "id": "1uwvlK2pu25P",
        "outputId": "ee20bec0-6073-499e-b6ae-3edf43552513"
      },
      "execution_count": 73,
      "outputs": [
        {
          "output_type": "execute_result",
          "data": {
            "text/plain": [
              "array([ 0,  5, 10, 15, 20, 25, 30, 35, 40, 45, 50])"
            ]
          },
          "metadata": {},
          "execution_count": 73
        }
      ]
    },
    {
      "cell_type": "code",
      "source": [
        "table[0]\n"
      ],
      "metadata": {
        "colab": {
          "base_uri": "https://localhost:8080/"
        },
        "id": "YuWVerD1yGkl",
        "outputId": "073e8cb2-e884-4749-ec0f-a3cfc91afed3"
      },
      "execution_count": 74,
      "outputs": [
        {
          "output_type": "execute_result",
          "data": {
            "text/plain": [
              "0"
            ]
          },
          "metadata": {},
          "execution_count": 74
        }
      ]
    },
    {
      "cell_type": "code",
      "source": [
        "table[-1]"
      ],
      "metadata": {
        "colab": {
          "base_uri": "https://localhost:8080/"
        },
        "id": "McXaWZRmyPIP",
        "outputId": "47584d30-837b-44a5-9f3c-8a7b2e280ab0"
      },
      "execution_count": 75,
      "outputs": [
        {
          "output_type": "execute_result",
          "data": {
            "text/plain": [
              "50"
            ]
          },
          "metadata": {},
          "execution_count": 75
        }
      ]
    },
    {
      "cell_type": "code",
      "source": [
        "table[:4]"
      ],
      "metadata": {
        "colab": {
          "base_uri": "https://localhost:8080/"
        },
        "id": "sYkCbsCIyVPD",
        "outputId": "261c289b-e50f-43d6-eb99-2a91c845e138"
      },
      "execution_count": 76,
      "outputs": [
        {
          "output_type": "execute_result",
          "data": {
            "text/plain": [
              "array([ 0,  5, 10, 15])"
            ]
          },
          "metadata": {},
          "execution_count": 76
        }
      ]
    },
    {
      "cell_type": "code",
      "source": [
        "table[4:]"
      ],
      "metadata": {
        "colab": {
          "base_uri": "https://localhost:8080/"
        },
        "id": "J14lyisyyZR-",
        "outputId": "d824ac43-6bb8-44c1-8dc3-290b3c585fdf"
      },
      "execution_count": 77,
      "outputs": [
        {
          "output_type": "execute_result",
          "data": {
            "text/plain": [
              "array([20, 25, 30, 35, 40, 45, 50])"
            ]
          },
          "metadata": {},
          "execution_count": 77
        }
      ]
    },
    {
      "cell_type": "code",
      "source": [
        "#We can also slice an n-dim ndarray., specifying the slice operation accross each axis.\n",
        "print(people)\n",
        "people[:3, :3]"
      ],
      "metadata": {
        "colab": {
          "base_uri": "https://localhost:8080/"
        },
        "id": "FLRHyZ7NycjS",
        "outputId": "6a2c0ba4-ed0b-4f4f-f0e4-670f5f500afd"
      },
      "execution_count": 78,
      "outputs": [
        {
          "output_type": "stream",
          "name": "stdout",
          "text": [
            "[[23 34 55 76 87]\n",
            " [92 23 45 67 87]]\n"
          ]
        },
        {
          "output_type": "execute_result",
          "data": {
            "text/plain": [
              "array([[23, 34, 55],\n",
              "       [92, 23, 45]])"
            ]
          },
          "metadata": {},
          "execution_count": 78
        }
      ]
    },
    {
      "cell_type": "code",
      "source": [
        "#Exercise\n",
        "#1.Create a numpy array with 50 zeros\n",
        "zeros2 =np.zeros(50)\n",
        "zeros2\n",
        "\n",
        "\n"
      ],
      "metadata": {
        "colab": {
          "base_uri": "https://localhost:8080/"
        },
        "id": "nQzQYmX3ykO0",
        "outputId": "33a6a263-c0f6-4f29-aab9-b1cd3308f501"
      },
      "execution_count": 81,
      "outputs": [
        {
          "output_type": "execute_result",
          "data": {
            "text/plain": [
              "array([0., 0., 0., 0., 0., 0., 0., 0., 0., 0., 0., 0., 0., 0., 0., 0., 0.,\n",
              "       0., 0., 0., 0., 0., 0., 0., 0., 0., 0., 0., 0., 0., 0., 0., 0., 0.,\n",
              "       0., 0., 0., 0., 0., 0., 0., 0., 0., 0., 0., 0., 0., 0., 0., 0.])"
            ]
          },
          "metadata": {},
          "execution_count": 81
        }
      ]
    },
    {
      "cell_type": "code",
      "source": [
        "#2.Create a np array of 2 repeated 20 times\n",
        "times_20 = np.repeat(2,20)\n",
        "print(times_20)"
      ],
      "metadata": {
        "colab": {
          "base_uri": "https://localhost:8080/"
        },
        "id": "_gCRt8uizLJn",
        "outputId": "1c790946-fed8-467f-afbf-e99839fa31a7"
      },
      "execution_count": 82,
      "outputs": [
        {
          "output_type": "stream",
          "name": "stdout",
          "text": [
            "[2 2 2 2 2 2 2 2 2 2 2 2 2 2 2 2 2 2 2 2]\n"
          ]
        }
      ]
    },
    {
      "cell_type": "code",
      "source": [
        "#3.Create a numpy array from 0 to 2  π  in steps of 0.1\n",
        "arr_num = np.arange(0,3.14,0.1)\n",
        "print(arr_num)"
      ],
      "metadata": {
        "colab": {
          "base_uri": "https://localhost:8080/"
        },
        "id": "B0M0IQ6rz1Sf",
        "outputId": "2512bcc5-e2c7-4a3c-9b22-45d9c84c8c71"
      },
      "execution_count": 83,
      "outputs": [
        {
          "output_type": "stream",
          "name": "stdout",
          "text": [
            "[0.  0.1 0.2 0.3 0.4 0.5 0.6 0.7 0.8 0.9 1.  1.1 1.2 1.3 1.4 1.5 1.6 1.7\n",
            " 1.8 1.9 2.  2.1 2.2 2.3 2.4 2.5 2.6 2.7 2.8 2.9 3.  3.1]\n"
          ]
        }
      ]
    },
    {
      "cell_type": "code",
      "source": [
        "#_____For one of the arrays generated:\n",
        "#4.Get the first five values\n",
        "print(arr_num[0:5])"
      ],
      "metadata": {
        "colab": {
          "base_uri": "https://localhost:8080/"
        },
        "id": "a3GPjJe-0Ucx",
        "outputId": "d182a218-a31b-4880-ce4a-3f314319d120"
      },
      "execution_count": 84,
      "outputs": [
        {
          "output_type": "stream",
          "name": "stdout",
          "text": [
            "[0.  0.1 0.2 0.3 0.4]\n"
          ]
        }
      ]
    },
    {
      "cell_type": "code",
      "source": [
        "#5.Get the last 3 values\n",
        "print(arr_num[-3:])"
      ],
      "metadata": {
        "colab": {
          "base_uri": "https://localhost:8080/"
        },
        "id": "pF6EfX270g8j",
        "outputId": "5a6fd48a-28ad-4ad5-d448-d839d3dbfe4f"
      },
      "execution_count": 93,
      "outputs": [
        {
          "output_type": "stream",
          "name": "stdout",
          "text": [
            "[2.9 3.  3.1]\n"
          ]
        }
      ]
    },
    {
      "cell_type": "code",
      "source": [
        "#6.Get the 4th value to the 7th value\n",
        "print(arr_num[3])\n",
        "print(arr_num[6])\n",
        "\n",
        "#Exercise End here"
      ],
      "metadata": {
        "colab": {
          "base_uri": "https://localhost:8080/"
        },
        "id": "GvSN4xg30roD",
        "outputId": "062b7f76-f752-4a5b-ec5e-3647669b88b7"
      },
      "execution_count": 96,
      "outputs": [
        {
          "output_type": "stream",
          "name": "stdout",
          "text": [
            "0.30000000000000004\n",
            "0.6000000000000001\n"
          ]
        }
      ]
    },
    {
      "cell_type": "code",
      "source": [
        "#We can reverse an array by using .flip() or by using the :: operator.\n",
        "table = np.flip(table)\n",
        "table"
      ],
      "metadata": {
        "colab": {
          "base_uri": "https://localhost:8080/"
        },
        "id": "fpyGh7fi1xkt",
        "outputId": "9f612082-8b47-47c3-9962-7c5c8b6b85b1"
      },
      "execution_count": 97,
      "outputs": [
        {
          "output_type": "execute_result",
          "data": {
            "text/plain": [
              "array([50, 45, 40, 35, 30, 25, 20, 15, 10,  5,  0])"
            ]
          },
          "metadata": {},
          "execution_count": 97
        }
      ]
    },
    {
      "cell_type": "code",
      "source": [
        "print(table[-1::-1])"
      ],
      "metadata": {
        "colab": {
          "base_uri": "https://localhost:8080/"
        },
        "id": "gVahWfQH2aNZ",
        "outputId": "f0af0d64-e0e3-4f59-d1c3-5f5a75c108cc"
      },
      "execution_count": 98,
      "outputs": [
        {
          "output_type": "stream",
          "name": "stdout",
          "text": [
            "[ 0  5 10 15 20 25 30 35 40 45 50]\n"
          ]
        }
      ]
    },
    {
      "cell_type": "code",
      "source": [
        "#We can also use the :: operator to select steps of the original array.\n",
        "print(table[0::3])#Every 3rd element starting from 0"
      ],
      "metadata": {
        "colab": {
          "base_uri": "https://localhost:8080/"
        },
        "id": "OfQTWFZf2mrm",
        "outputId": "dc68385a-a653-4af9-9d7b-020006df016e"
      },
      "execution_count": 99,
      "outputs": [
        {
          "output_type": "stream",
          "name": "stdout",
          "text": [
            "[50 35 20  5]\n"
          ]
        }
      ]
    },
    {
      "cell_type": "code",
      "source": [
        "#Exercise:\n",
        "#1.Take one of the arrays you defined and Reverse it\n",
        "Rev_arr = np.array([34, 12, 2, 61, 21, 25, 99])\n",
        "Rev_arr\n",
        "Rev_arr1 = np.flip(Rev_arr)\n",
        "Rev_arr1\n",
        "\n"
      ],
      "metadata": {
        "colab": {
          "base_uri": "https://localhost:8080/"
        },
        "id": "8TObMiZb25ZI",
        "outputId": "db5c30aa-71bd-4fa1-ed87-58070a3f77e5"
      },
      "execution_count": 104,
      "outputs": [
        {
          "output_type": "execute_result",
          "data": {
            "text/plain": [
              "array([99, 25, 21, 61,  2, 12, 34])"
            ]
          },
          "metadata": {},
          "execution_count": 104
        }
      ]
    },
    {
      "cell_type": "code",
      "source": [
        "#2.Only keep every 4th element.\n",
        "print(Rev_arr1[0::4])"
      ],
      "metadata": {
        "colab": {
          "base_uri": "https://localhost:8080/"
        },
        "id": "xBW-2ICS3nBf",
        "outputId": "697c7b23-3e7e-4863-a298-a8e13e3fb82f"
      },
      "execution_count": 105,
      "outputs": [
        {
          "output_type": "stream",
          "name": "stdout",
          "text": [
            "[99  2]\n"
          ]
        }
      ]
    },
    {
      "cell_type": "code",
      "source": [
        "#3.Get every 2nd element, starting from the last and moving backwards.\n",
        "print(Rev_arr1[-1::-2])\n",
        "\n",
        "#Exercise End"
      ],
      "metadata": {
        "colab": {
          "base_uri": "https://localhost:8080/"
        },
        "id": "MrkCzPWZ4GgB",
        "outputId": "78b9f8ce-31e8-42ea-dad6-79d257d94924"
      },
      "execution_count": 107,
      "outputs": [
        {
          "output_type": "stream",
          "name": "stdout",
          "text": [
            "[34  2 21 99]\n"
          ]
        }
      ]
    },
    {
      "cell_type": "code",
      "source": [
        "#Stats\n",
        "np.array([1.65432, 5.98765]).round(2)"
      ],
      "metadata": {
        "colab": {
          "base_uri": "https://localhost:8080/"
        },
        "id": "CmPc2trX4TRw",
        "outputId": "ee8c5670-ebed-40be-e495-9efbfe93eaa8"
      },
      "execution_count": 108,
      "outputs": [
        {
          "output_type": "execute_result",
          "data": {
            "text/plain": [
              "array([1.65, 5.99])"
            ]
          },
          "metadata": {},
          "execution_count": 108
        }
      ]
    },
    {
      "cell_type": "code",
      "source": [
        "nums = np.arange(0, 4, 0.2555)\n",
        "nums"
      ],
      "metadata": {
        "colab": {
          "base_uri": "https://localhost:8080/"
        },
        "id": "zktAV9Ai4rUI",
        "outputId": "7b1a1c9e-1a4e-412f-fb05-3b5eab36708a"
      },
      "execution_count": 110,
      "outputs": [
        {
          "output_type": "execute_result",
          "data": {
            "text/plain": [
              "array([0.    , 0.2555, 0.511 , 0.7665, 1.022 , 1.2775, 1.533 , 1.7885,\n",
              "       2.044 , 2.2995, 2.555 , 2.8105, 3.066 , 3.3215, 3.577 , 3.8325])"
            ]
          },
          "metadata": {},
          "execution_count": 110
        }
      ]
    },
    {
      "cell_type": "code",
      "source": [
        "#Exercise: Compute min, max, sum, mean, median, variance, and standard deviation of the above array, all to to 2 decimal places.\n",
        "#min\n",
        "print(\"min = \", np.min(nums).round(2))"
      ],
      "metadata": {
        "colab": {
          "base_uri": "https://localhost:8080/"
        },
        "id": "WOQjFS2M43gl",
        "outputId": "b8a9df7f-1274-43af-bc6d-d138f48a21b8"
      },
      "execution_count": 113,
      "outputs": [
        {
          "output_type": "stream",
          "name": "stdout",
          "text": [
            "min =  0.0\n"
          ]
        }
      ]
    },
    {
      "cell_type": "code",
      "source": [
        "#max\n",
        "print(\"max = \", np.max(nums).round(2))"
      ],
      "metadata": {
        "colab": {
          "base_uri": "https://localhost:8080/"
        },
        "id": "vYPIAMqM5I8e",
        "outputId": "f9306d2e-e252-439d-cf95-c78885918082"
      },
      "execution_count": 114,
      "outputs": [
        {
          "output_type": "stream",
          "name": "stdout",
          "text": [
            "max =  3.83\n"
          ]
        }
      ]
    },
    {
      "cell_type": "code",
      "source": [
        "#sum\n",
        "print(\"sum = \", np.sum(nums).round(2))"
      ],
      "metadata": {
        "colab": {
          "base_uri": "https://localhost:8080/"
        },
        "id": "7wG77dfp5mdt",
        "outputId": "2991068d-a9ae-4ba1-d1cc-cb8d612f9d39"
      },
      "execution_count": 115,
      "outputs": [
        {
          "output_type": "stream",
          "name": "stdout",
          "text": [
            "max =  30.66\n"
          ]
        }
      ]
    },
    {
      "cell_type": "code",
      "source": [
        "#mean\n",
        "print(\"mean = \", np.mean(nums).round(2))"
      ],
      "metadata": {
        "colab": {
          "base_uri": "https://localhost:8080/"
        },
        "id": "TlB6AmX05uQM",
        "outputId": "0e46632c-67f8-4196-b031-62147cfb127a"
      },
      "execution_count": 123,
      "outputs": [
        {
          "output_type": "stream",
          "name": "stdout",
          "text": [
            "mean =  1.92\n"
          ]
        }
      ]
    },
    {
      "cell_type": "code",
      "source": [
        "#median\n",
        "print(\"median = \", np.median(nums).round(2))"
      ],
      "metadata": {
        "colab": {
          "base_uri": "https://localhost:8080/"
        },
        "id": "H1ZBDO0z50Av",
        "outputId": "41068a5c-bb49-4fb5-fdb9-eceb4619c5a1"
      },
      "execution_count": 124,
      "outputs": [
        {
          "output_type": "stream",
          "name": "stdout",
          "text": [
            "median =  1.92\n"
          ]
        }
      ]
    },
    {
      "cell_type": "code",
      "source": [
        "#Variance\n",
        "print(\"variance = \", np.var(nums).round(2))"
      ],
      "metadata": {
        "colab": {
          "base_uri": "https://localhost:8080/"
        },
        "id": "WZ8MSSGg6Cvk",
        "outputId": "f39003b7-f724-4301-8781-643553fedf1f"
      },
      "execution_count": 120,
      "outputs": [
        {
          "output_type": "stream",
          "name": "stdout",
          "text": [
            "variance =  1.39\n"
          ]
        }
      ]
    },
    {
      "cell_type": "code",
      "source": [
        "#Standard Deviation\n",
        "print(\"Standard Deviation  = \", np.std(nums).round(2)) "
      ],
      "metadata": {
        "colab": {
          "base_uri": "https://localhost:8080/"
        },
        "id": "M8ALU9c16gyz",
        "outputId": "b6a52684-e78d-4657-ce6f-d8752878449c"
      },
      "execution_count": 122,
      "outputs": [
        {
          "output_type": "stream",
          "name": "stdout",
          "text": [
            "Standard Deviation  =  1.18\n"
          ]
        }
      ]
    },
    {
      "cell_type": "code",
      "source": [
        "#Random\n",
        "#With np.random, we can generate a number of types of dataset, and create training data.\n",
        "#The below code simulates a fair coin toss.\n",
        "flip = np.random.choice([0,1], 10)\n",
        "flip"
      ],
      "metadata": {
        "colab": {
          "base_uri": "https://localhost:8080/"
        },
        "id": "NEJrzPJh7ImJ",
        "outputId": "6ee37ae9-0166-4e08-e602-9e21d67996c7"
      },
      "execution_count": 125,
      "outputs": [
        {
          "output_type": "execute_result",
          "data": {
            "text/plain": [
              "array([1, 1, 0, 0, 1, 0, 1, 0, 1, 0])"
            ]
          },
          "metadata": {},
          "execution_count": 125
        }
      ]
    },
    {
      "cell_type": "code",
      "source": [
        "np.random.rand(10,20,9)"
      ],
      "metadata": {
        "colab": {
          "base_uri": "https://localhost:8080/"
        },
        "id": "RzYqtxLH8lcy",
        "outputId": "5f588610-65f9-4460-8c6b-da8649547802"
      },
      "execution_count": 126,
      "outputs": [
        {
          "output_type": "execute_result",
          "data": {
            "text/plain": [
              "array([[[3.82021043e-02, 3.27109411e-01, 6.14767059e-01, ...,\n",
              "         4.91773177e-01, 5.20545311e-01, 7.99032553e-01],\n",
              "        [6.00994345e-01, 9.36883352e-01, 3.44260924e-01, ...,\n",
              "         5.16903544e-01, 3.96933573e-02, 6.14368476e-01],\n",
              "        [2.92655567e-02, 9.67609051e-01, 6.71230326e-01, ...,\n",
              "         2.81363645e-01, 4.14327937e-01, 8.95761697e-01],\n",
              "        ...,\n",
              "        [7.43400949e-01, 6.44433800e-01, 9.12013766e-01, ...,\n",
              "         7.22959934e-01, 3.99477932e-01, 5.21460712e-01],\n",
              "        [9.57853176e-02, 5.99847697e-01, 7.50296735e-01, ...,\n",
              "         1.93064375e-01, 5.90523715e-01, 2.10844975e-01],\n",
              "        [3.94056143e-01, 4.62606901e-01, 7.31183509e-01, ...,\n",
              "         8.22084381e-01, 6.49898910e-01, 4.51180947e-01]],\n",
              "\n",
              "       [[7.74304523e-01, 8.88085970e-01, 2.48762529e-01, ...,\n",
              "         9.61854953e-01, 6.32184543e-01, 8.21919822e-01],\n",
              "        [6.64867576e-01, 5.75810366e-01, 9.71572531e-02, ...,\n",
              "         8.78497976e-01, 7.84902656e-01, 9.22076815e-01],\n",
              "        [9.64329128e-01, 2.21109536e-01, 9.02622708e-01, ...,\n",
              "         8.30952651e-03, 1.36035114e-01, 3.84985088e-01],\n",
              "        ...,\n",
              "        [5.24375739e-01, 3.01816825e-01, 3.52055811e-01, ...,\n",
              "         8.02799982e-01, 8.76932615e-01, 5.04090395e-01],\n",
              "        [6.74307558e-01, 8.80415659e-02, 8.35229800e-01, ...,\n",
              "         4.39994382e-01, 5.18144575e-01, 2.95026416e-01],\n",
              "        [7.98555159e-01, 6.92331017e-01, 4.53737377e-01, ...,\n",
              "         7.68308452e-01, 9.34518548e-01, 3.23318398e-01]],\n",
              "\n",
              "       [[4.45007362e-01, 6.78770954e-01, 2.03487686e-01, ...,\n",
              "         7.11961587e-01, 9.56228937e-01, 2.81626072e-01],\n",
              "        [6.37109511e-02, 3.16216952e-01, 1.90111085e-01, ...,\n",
              "         1.07731807e-01, 3.63806007e-01, 8.30673505e-01],\n",
              "        [7.38983755e-01, 2.03975723e-01, 3.57641144e-02, ...,\n",
              "         4.33150164e-01, 2.43272056e-01, 1.73866169e-01],\n",
              "        ...,\n",
              "        [8.22874718e-01, 4.60971284e-01, 7.49756801e-01, ...,\n",
              "         1.57139159e-01, 5.47212657e-01, 6.31568839e-01],\n",
              "        [1.14573847e-01, 4.35128286e-01, 3.18113363e-01, ...,\n",
              "         1.68028943e-01, 8.61623454e-01, 9.09216501e-01],\n",
              "        [1.15893082e-01, 6.77260446e-01, 7.62531974e-01, ...,\n",
              "         8.35171508e-01, 3.32862769e-01, 8.37093561e-01]],\n",
              "\n",
              "       ...,\n",
              "\n",
              "       [[7.22113881e-01, 6.18367207e-01, 9.52391892e-01, ...,\n",
              "         7.20668388e-02, 2.28432633e-01, 2.37725727e-01],\n",
              "        [1.58822372e-01, 6.28262094e-01, 3.63268749e-01, ...,\n",
              "         5.54624934e-01, 1.52918489e-01, 1.07198762e-02],\n",
              "        [6.37049665e-01, 2.49371363e-01, 2.93281653e-01, ...,\n",
              "         5.96908120e-01, 8.21496490e-01, 7.64278030e-01],\n",
              "        ...,\n",
              "        [3.45925156e-02, 9.42111249e-01, 6.25103091e-01, ...,\n",
              "         3.11383757e-01, 3.94809072e-01, 4.27114430e-01],\n",
              "        [2.61953928e-01, 6.69290712e-01, 1.98419193e-01, ...,\n",
              "         8.10450981e-01, 9.15399493e-01, 1.84600504e-01],\n",
              "        [1.11828014e-01, 5.72147039e-01, 5.68321163e-01, ...,\n",
              "         8.12658344e-01, 1.89010337e-01, 9.89388645e-01]],\n",
              "\n",
              "       [[1.78591009e-01, 9.22710116e-01, 3.67072094e-01, ...,\n",
              "         6.77182938e-01, 6.60107410e-01, 8.38263479e-01],\n",
              "        [1.95855683e-01, 6.56372616e-02, 2.84760016e-01, ...,\n",
              "         7.84469868e-01, 9.12116679e-01, 3.86205000e-01],\n",
              "        [8.98636436e-01, 8.16638171e-01, 6.56554066e-01, ...,\n",
              "         1.56824712e-01, 2.77058119e-01, 6.41259123e-04],\n",
              "        ...,\n",
              "        [9.86659750e-01, 5.33409802e-01, 8.16092572e-01, ...,\n",
              "         1.10966916e-01, 5.34781120e-02, 8.26945114e-01],\n",
              "        [2.98163301e-01, 8.88452407e-01, 9.73599467e-01, ...,\n",
              "         8.44725932e-01, 6.75103082e-01, 3.86058319e-01],\n",
              "        [1.04288165e-01, 2.67445839e-01, 4.25249031e-01, ...,\n",
              "         2.52794433e-01, 6.87062959e-01, 4.20852314e-01]],\n",
              "\n",
              "       [[5.94484136e-01, 2.43406170e-01, 7.17353692e-01, ...,\n",
              "         3.61513174e-02, 7.82133942e-01, 7.63795643e-01],\n",
              "        [9.29503803e-01, 6.80798768e-01, 7.14823651e-01, ...,\n",
              "         5.98334386e-01, 3.11528914e-02, 5.52626994e-01],\n",
              "        [3.29941313e-01, 9.97471991e-01, 9.41312478e-01, ...,\n",
              "         7.26164082e-01, 1.73930400e-01, 7.81875086e-01],\n",
              "        ...,\n",
              "        [9.70729733e-01, 3.66347566e-01, 4.50276408e-01, ...,\n",
              "         6.77620743e-01, 7.02427341e-01, 7.52670855e-01],\n",
              "        [5.60248530e-01, 9.11322738e-01, 4.57931144e-03, ...,\n",
              "         6.61469139e-01, 2.88563804e-01, 4.69567643e-01],\n",
              "        [6.93537530e-01, 6.10588456e-01, 9.52536661e-01, ...,\n",
              "         3.10063080e-01, 9.69214837e-02, 9.73054406e-01]]])"
            ]
          },
          "metadata": {},
          "execution_count": 126
        }
      ]
    },
    {
      "cell_type": "code",
      "source": [
        "#We can produce 1000 datapoints of a normally distributed data set by using np.random.normal()\n",
        "mu, sigma = 0, 0.1 # mean and standard deviation\n",
        "s = np.random.normal(mu, sigma, 1000)\n",
        "s"
      ],
      "metadata": {
        "colab": {
          "base_uri": "https://localhost:8080/"
        },
        "id": "9ceP0Lw_8sfs",
        "outputId": "9180ef37-ab48-46dc-d521-e11051f7f560"
      },
      "execution_count": 128,
      "outputs": [
        {
          "output_type": "execute_result",
          "data": {
            "text/plain": [
              "array([-8.73001989e-02, -6.69960088e-02, -1.08625037e-01, -4.34932050e-02,\n",
              "        1.45164351e-01, -7.75250920e-02,  8.09383817e-02,  1.02367814e-02,\n",
              "       -2.71040640e-02, -5.26033762e-03,  2.38594884e-02, -9.40647047e-02,\n",
              "       -1.48763458e-01,  1.78741438e-01,  6.40234326e-02, -1.96319156e-02,\n",
              "       -5.14310071e-03, -2.23225971e-02,  2.49536526e-02, -1.22217051e-01,\n",
              "        7.92570969e-02, -4.61161976e-02,  1.81263450e-01, -1.37593293e-02,\n",
              "        8.73070975e-02, -7.45169875e-02, -2.21509597e-01, -3.61743453e-02,\n",
              "       -4.69731912e-02,  1.26776897e-02, -1.78025128e-01,  1.57274278e-01,\n",
              "        2.33381060e-02,  8.69911367e-03,  5.46060691e-02,  3.61140988e-02,\n",
              "       -2.11015349e-02, -1.68462559e-02,  4.96780276e-02, -7.90499566e-02,\n",
              "       -1.19628833e-01, -2.45157741e-01, -1.90740221e-02, -1.34247583e-01,\n",
              "       -1.54349461e-01, -1.56216030e-01, -7.86759445e-02, -6.89895215e-02,\n",
              "        6.86141294e-02, -8.55401845e-02,  1.70967308e-02,  4.77699295e-02,\n",
              "       -5.46973382e-03,  1.63991169e-01,  5.59566050e-02,  1.35807484e-02,\n",
              "        2.23627784e-01,  5.10640350e-02, -2.36602523e-02, -4.92757592e-02,\n",
              "        2.28285335e-01, -2.08609978e-01,  5.83744062e-02,  8.56070497e-02,\n",
              "       -6.11810153e-02,  1.56643871e-01, -1.13564036e-01,  1.07212081e-03,\n",
              "       -1.21988235e-01, -1.49787284e-02, -8.50671532e-02,  7.51518943e-02,\n",
              "        6.78160928e-02, -1.07720568e-01, -2.72683718e-02,  1.03686188e-01,\n",
              "       -7.86875974e-02, -6.91943516e-02,  2.17618295e-01,  4.93088611e-02,\n",
              "        8.15076572e-02, -5.94143813e-02, -7.72175571e-02,  3.70062143e-02,\n",
              "       -4.23127173e-02,  1.19906198e-02, -8.93170337e-02, -1.05984642e-01,\n",
              "       -9.01643068e-02, -6.81454061e-02, -7.49520619e-02, -1.35104140e-01,\n",
              "        7.63706718e-02,  3.43741166e-02,  4.25105481e-02,  1.60479139e-01,\n",
              "       -1.62118764e-01,  7.40976269e-02,  1.21361309e-01, -1.73795553e-01,\n",
              "       -4.90547786e-02,  5.93397241e-02, -9.75936073e-03, -4.57704192e-02,\n",
              "        6.78259568e-02,  1.61940784e-01, -4.21245892e-02,  4.79193617e-02,\n",
              "       -7.59077166e-02,  6.06152265e-03,  4.74912545e-03, -4.42676404e-02,\n",
              "        7.19606258e-03,  7.54173310e-02,  4.14379076e-02, -1.33610034e-01,\n",
              "       -9.64073103e-02, -8.21137537e-02, -4.88534891e-02,  3.70624806e-02,\n",
              "        3.18857338e-02,  7.29356787e-02, -9.68699551e-03,  3.66792015e-02,\n",
              "       -1.37398109e-01, -9.94617646e-02,  4.01106638e-02,  1.19559891e-01,\n",
              "        7.27568315e-02,  2.26398834e-01, -1.00707918e-01, -2.62050908e-02,\n",
              "       -1.25518811e-01,  1.63429072e-01, -1.67766244e-02,  7.52272467e-02,\n",
              "        3.78333413e-02,  2.98986881e-03,  1.14490455e-01,  5.97670015e-02,\n",
              "       -2.63299944e-02, -2.47584798e-01, -5.85331659e-02, -1.53150328e-01,\n",
              "       -5.67323083e-02, -3.74625568e-02, -4.70700107e-02,  1.01578439e-01,\n",
              "       -1.40466870e-01, -7.83950892e-02, -7.12403615e-02,  2.15474155e-02,\n",
              "        3.72979345e-02, -5.09684305e-02,  1.45449057e-01, -8.03147544e-02,\n",
              "       -9.95706591e-02, -7.89898968e-03,  1.43258817e-01, -2.67033687e-02,\n",
              "        1.00833184e-01,  3.16466048e-02, -3.48134571e-02,  1.43453036e-01,\n",
              "        6.78020435e-02, -2.08237663e-01,  8.57043874e-02,  1.90336958e-02,\n",
              "        2.13772481e-02,  1.13364714e-01, -4.33915824e-02, -7.32523750e-02,\n",
              "       -2.91912051e-02, -3.64479870e-02, -1.63771788e-01,  4.87539193e-02,\n",
              "       -1.02875050e-02,  3.41112434e-02,  1.18214787e-02, -5.50561701e-02,\n",
              "       -2.08904482e-02,  4.45232732e-02,  7.14352891e-03,  9.71056530e-02,\n",
              "       -1.70088630e-02,  8.04588772e-02,  5.16904045e-03, -8.47080706e-02,\n",
              "       -6.63227835e-02,  1.61157439e-01, -7.22987489e-02,  2.63353471e-02,\n",
              "        2.45464073e-02,  1.33112674e-01, -6.64852258e-02,  5.41308453e-02,\n",
              "       -9.97054973e-02,  1.84971795e-01,  5.39062735e-03,  3.89863202e-02,\n",
              "        6.36303276e-02,  5.88294518e-02,  1.15628821e-01, -1.08548807e-01,\n",
              "        2.34007336e-03, -6.70192003e-02,  6.09269062e-02,  7.59051074e-03,\n",
              "       -1.71235548e-01, -1.58964888e-01,  8.82272957e-02, -1.17528827e-02,\n",
              "        3.64259725e-02, -2.52179255e-02, -1.50863677e-01,  9.40443496e-02,\n",
              "       -3.75567155e-02, -9.40811190e-02, -3.40459943e-03,  2.15497014e-02,\n",
              "       -9.03112725e-02,  1.10341173e-01,  6.88892506e-02,  6.37991249e-02,\n",
              "       -1.79741690e-02,  1.47111650e-01,  6.22199396e-02, -1.02684535e-01,\n",
              "        6.57709609e-02, -7.10361528e-02, -1.25568764e-01, -3.31476415e-02,\n",
              "       -8.89923204e-02,  1.78303080e-01, -8.80052582e-02, -6.93178606e-03,\n",
              "        4.35754581e-02, -2.02258123e-02, -1.21851391e-01, -3.81867789e-02,\n",
              "       -1.34202485e-01, -5.13907679e-03, -4.31726825e-02, -7.74224770e-02,\n",
              "        2.19015076e-01,  1.04442518e-01,  6.54245212e-02, -7.61884462e-02,\n",
              "       -1.51171488e-02, -4.11172108e-02,  5.82295327e-03, -3.67156855e-02,\n",
              "        5.84705504e-02,  8.21686990e-02, -1.04544919e-01,  2.37996330e-02,\n",
              "       -7.20184125e-02,  4.49425175e-02, -7.45832994e-03,  8.87393773e-02,\n",
              "       -6.97042747e-02, -2.90591489e-03,  2.38253061e-02,  2.33259924e-02,\n",
              "        1.25474635e-01,  1.64694602e-01, -9.87953945e-02, -2.85750382e-02,\n",
              "       -1.29140238e-01, -2.15619124e-02, -7.50060134e-02, -4.43794978e-02,\n",
              "       -1.09147770e-01, -1.52793363e-01, -9.38566657e-02,  1.41293697e-02,\n",
              "        1.40034133e-01, -2.37076136e-02, -6.20791309e-02,  1.21684720e-01,\n",
              "       -1.19758946e-01,  1.35813500e-01,  1.50465481e-02, -8.22081129e-02,\n",
              "        1.06390740e-01, -7.68560661e-02, -1.39585158e-01,  1.27856163e-01,\n",
              "        2.01753257e-02, -6.97499058e-02, -1.65401562e-01,  1.03011937e-02,\n",
              "       -1.41251447e-01, -3.39479925e-02, -4.82497372e-02,  4.02018187e-02,\n",
              "        7.41551959e-02, -6.97399123e-02, -1.56570358e-01, -1.50944176e-01,\n",
              "       -1.01861348e-01, -3.97120246e-02,  1.25624653e-01, -1.21918391e-01,\n",
              "       -1.49200085e-01, -7.36980019e-02,  1.50592164e-01,  7.73955015e-02,\n",
              "       -3.19931788e-02,  6.65742404e-02,  2.65447232e-02,  1.53740750e-02,\n",
              "       -2.14217076e-02,  1.90050025e-02,  8.89006335e-02,  1.48810736e-01,\n",
              "        6.69426328e-02, -1.53448016e-02,  4.25270998e-03,  1.38914642e-02,\n",
              "       -2.13224728e-01, -1.62358260e-01, -1.48381784e-01,  1.62225008e-01,\n",
              "       -1.25495158e-02, -7.68811879e-02, -3.08728134e-02,  2.21006598e-03,\n",
              "       -2.46539680e-02,  1.67013483e-03,  9.17221434e-02,  5.67805080e-02,\n",
              "       -5.24052011e-02, -1.05860319e-01, -1.00891741e-01,  1.25531719e-01,\n",
              "       -2.51358635e-01,  7.41886417e-02, -4.88498388e-02, -7.84313783e-02,\n",
              "       -4.20561694e-02,  1.27183345e-01,  4.38559219e-02,  9.09152468e-02,\n",
              "        1.52870867e-01,  1.67271151e-01, -9.71217988e-02,  1.74989776e-01,\n",
              "        4.94892794e-02,  1.08497857e-01, -3.97216224e-02, -5.55458430e-02,\n",
              "        5.37085909e-02,  2.68146607e-02, -1.22143013e-01,  2.34814098e-02,\n",
              "       -6.01135178e-02,  2.33855367e-02, -1.57649216e-01,  8.26874051e-02,\n",
              "       -9.05013304e-02, -3.07624827e-02,  7.17907734e-02,  3.01161404e-02,\n",
              "       -1.08192496e-01, -5.13928980e-02, -1.56897126e-01,  5.75855706e-02,\n",
              "       -3.60915306e-02, -6.82086679e-02, -1.35824841e-01,  1.01034466e-01,\n",
              "       -3.77509602e-02,  1.61045271e-02,  4.59828264e-02,  1.14402952e-01,\n",
              "        2.10576602e-02,  1.70392100e-02, -4.52795097e-02, -5.49714980e-02,\n",
              "        3.78192494e-02, -1.08069492e-01, -8.22230616e-02, -5.48306552e-02,\n",
              "        3.23265577e-02,  3.12841394e-02, -8.73764043e-02, -1.79570075e-02,\n",
              "        8.85664619e-02, -3.80731952e-02,  4.32733847e-02, -5.04481766e-02,\n",
              "       -8.96550084e-02,  4.64928391e-02, -8.84368759e-02,  4.98310742e-02,\n",
              "        6.70632885e-02,  2.18695746e-01, -1.67722930e-02, -5.78208145e-02,\n",
              "       -3.63346221e-02,  3.98076658e-03,  1.91579069e-01,  3.76297660e-03,\n",
              "        3.33918162e-03, -6.44530811e-02, -1.68030437e-01, -6.79963984e-02,\n",
              "        8.89884845e-02, -1.12909760e-01,  1.51337670e-01,  8.43666980e-02,\n",
              "        2.29850195e-01, -9.56070636e-02, -1.27358571e-02, -1.33079495e-02,\n",
              "       -1.03175267e-01, -1.04022018e-01,  1.13414027e-01,  9.01849083e-02,\n",
              "        1.14315329e-01,  1.00347260e-01,  1.71752170e-02, -1.20340918e-01,\n",
              "        3.32716542e-02,  1.06451119e-01, -2.15936078e-01,  8.95421056e-02,\n",
              "        6.20928345e-02,  1.79680354e-02, -2.24156657e-02, -1.99998429e-02,\n",
              "       -4.98375223e-02, -2.00486070e-01, -4.19186629e-02, -8.52892639e-02,\n",
              "       -2.04266456e-01,  2.17762941e-02,  1.06908295e-01,  5.17089984e-02,\n",
              "       -3.38315101e-02, -2.76728456e-02, -1.64417008e-02,  1.59772160e-02,\n",
              "        2.25719103e-01,  4.01477466e-03, -8.13605913e-02, -5.06028066e-02,\n",
              "        4.73995544e-02, -6.32484868e-02,  3.30464665e-01, -1.09578012e-01,\n",
              "        4.36061773e-02,  4.96459971e-02, -6.16465612e-02,  1.62013542e-01,\n",
              "        6.83050698e-02, -6.16882812e-02, -8.81167569e-03, -5.15133257e-04,\n",
              "        1.11723134e-02,  7.72007722e-02, -1.49176244e-01,  5.31942668e-03,\n",
              "        9.75761932e-03,  1.45378206e-01,  1.09595220e-01,  4.48880128e-02,\n",
              "       -2.76511141e-02, -2.67304696e-02,  1.08076516e-01, -4.72750216e-02,\n",
              "        1.04374710e-01, -7.67041949e-02, -3.12865007e-02,  2.03108257e-01,\n",
              "        3.45310130e-02, -1.18831624e-03,  2.36633440e-02,  2.36663638e-01,\n",
              "       -6.71356099e-02, -9.31475063e-02, -6.12752001e-03,  8.33850279e-02,\n",
              "        1.15051319e-01,  3.48529106e-02, -1.19838696e-01, -5.51897813e-02,\n",
              "        3.02752438e-02, -2.32471017e-02, -1.17099518e-02,  1.86517164e-01,\n",
              "        5.46642169e-02, -3.17829537e-04,  9.99183980e-02, -3.27797150e-02,\n",
              "        6.44158533e-02, -3.52467361e-02, -5.20881425e-02,  1.05797208e-01,\n",
              "       -1.38231043e-01, -1.14036006e-01,  3.04356117e-02, -3.85877104e-02,\n",
              "        3.81101116e-02,  1.04171266e-02,  3.10259269e-02,  1.67382338e-01,\n",
              "        1.00902757e-02, -9.91251606e-02,  1.15772506e-02,  7.68723362e-02,\n",
              "        4.99481391e-02,  8.94366710e-02,  2.56246010e-02, -2.20904776e-01,\n",
              "       -5.30268045e-02, -1.61133191e-02, -1.39575065e-01,  8.85831141e-02,\n",
              "       -6.36362991e-02,  2.52529486e-02, -2.92499373e-02, -9.47290486e-02,\n",
              "        3.65236807e-03,  5.22113740e-02, -4.03831758e-02,  9.23976029e-03,\n",
              "       -5.33271577e-02, -3.05191641e-02,  9.82041224e-02,  2.83454890e-02,\n",
              "       -6.40091239e-03, -5.86258906e-04,  2.38441410e-01,  1.23982472e-02,\n",
              "        3.59730024e-03,  6.16444575e-03,  8.30619488e-02, -2.14937038e-01,\n",
              "       -1.04244002e-02,  8.18814103e-03, -2.10381525e-01, -1.42173891e-01,\n",
              "       -1.89654290e-01, -1.15907238e-01, -7.41997612e-03, -2.47405707e-01,\n",
              "        1.14082938e-01,  5.57570651e-02,  1.14207381e-01,  9.16699443e-02,\n",
              "       -1.43675596e-01, -7.20582973e-02, -3.14938755e-02,  5.72325331e-04,\n",
              "        2.71082247e-01,  1.29549413e-01,  1.27260078e-01, -2.30516301e-01,\n",
              "        3.91253092e-02, -1.10284468e-01, -7.32417542e-02,  5.47244109e-02,\n",
              "        4.95911901e-02,  4.12223077e-02,  7.08989559e-02, -1.29455760e-02,\n",
              "        5.96360874e-02, -4.97048193e-02,  6.87338760e-02, -2.91298880e-02,\n",
              "       -9.61501716e-03,  9.91796408e-02,  6.25119819e-02,  1.08635162e-01,\n",
              "        9.55487958e-02,  4.76796808e-02, -9.15726585e-02, -3.03348095e-02,\n",
              "        8.69561981e-02,  4.75321190e-02, -3.90941797e-02, -2.22255040e-01,\n",
              "       -1.30150573e-01, -1.29982826e-01,  7.70345420e-02,  4.49638256e-02,\n",
              "       -1.46487381e-01,  5.86392659e-02,  5.40080322e-02, -2.09213734e-02,\n",
              "       -7.86576859e-02, -1.19354334e-01,  2.48231144e-01, -1.71488822e-01,\n",
              "        2.16475518e-02, -1.46633619e-01,  1.73789920e-01,  1.71468839e-02,\n",
              "        4.89463069e-02,  5.09970221e-02,  1.72569458e-01, -1.11237245e-01,\n",
              "        9.75381016e-02, -1.48166333e-01, -1.58818199e-01,  1.57573201e-02,\n",
              "       -9.55355075e-02, -2.09066820e-01, -5.50073483e-02,  1.18187221e-01,\n",
              "       -5.76141148e-02, -1.82577846e-01, -1.13834159e-01, -9.90923596e-02,\n",
              "        1.77342484e-01, -5.10826871e-02,  1.33163193e-01,  2.18480348e-01,\n",
              "       -5.84575167e-02,  5.77236158e-02, -8.38209419e-02, -1.04719765e-01,\n",
              "       -6.16561838e-02, -4.41764766e-02, -1.62082099e-01,  1.46838083e-01,\n",
              "        5.60501663e-02,  2.57501441e-02,  2.32132629e-02, -2.66500445e-02,\n",
              "       -4.45763744e-02,  1.08527129e-01,  2.01245801e-01,  4.84777122e-02,\n",
              "        2.30384462e-01, -1.74827067e-02, -2.72731459e-02,  6.94996272e-04,\n",
              "        2.33864505e-01,  1.69501481e-01,  2.31987508e-01, -3.00533413e-02,\n",
              "        9.88163942e-02,  1.17352276e-01, -5.65351162e-02, -1.09270022e-01,\n",
              "       -2.06414974e-01,  3.88486875e-02, -4.85679247e-02,  9.51892850e-02,\n",
              "        2.72913328e-02, -1.50599598e-02,  2.83137017e-02,  1.41141640e-01,\n",
              "        2.54674351e-03,  4.93403043e-02,  2.96308100e-03, -1.28199917e-01,\n",
              "       -2.38135983e-01, -2.95040510e-02, -1.64807079e-02,  6.52212042e-02,\n",
              "        1.75991658e-01, -6.65208160e-04, -1.11718758e-02, -8.47323514e-02,\n",
              "        2.04985023e-02,  1.08206797e-01, -1.07972779e-01, -6.11389714e-02,\n",
              "        1.03004864e-01,  1.82561452e-02,  1.32024317e-02, -4.80318978e-02,\n",
              "       -1.45695424e-01, -4.67160678e-02, -5.17458842e-02,  1.96471542e-01,\n",
              "       -4.18797073e-02,  3.41316954e-02, -2.23446380e-02, -1.76729588e-01,\n",
              "       -3.89913842e-02,  4.67529749e-02,  2.02472895e-01,  2.09528259e-02,\n",
              "        2.20114111e-02,  7.71125988e-02,  1.51038598e-01, -6.42042582e-02,\n",
              "       -2.84467033e-02, -1.12468229e-01,  1.49713420e-01,  1.21431857e-01,\n",
              "       -4.98387040e-02,  1.46762394e-04,  5.28160390e-02,  1.25962255e-01,\n",
              "       -5.77180075e-02, -7.68382907e-02,  8.73102863e-03,  7.85284490e-02,\n",
              "        2.75615669e-02, -2.19005010e-01,  8.99248869e-02, -9.97612821e-02,\n",
              "        1.12420115e-01,  4.01455201e-02, -1.58104433e-01,  6.24093222e-02,\n",
              "        1.06938570e-01, -8.59649250e-02, -2.07214437e-02, -6.29313259e-02,\n",
              "        1.16085951e-01, -1.29566618e-02, -1.24088676e-01, -5.14281465e-02,\n",
              "        9.19325946e-02,  7.32228937e-02, -4.08727363e-02,  7.75516339e-03,\n",
              "        1.30151769e-01,  3.20708894e-02,  2.02493506e-01, -4.24567606e-02,\n",
              "       -6.39605505e-02,  1.20657291e-01, -4.97877764e-02, -3.33354256e-02,\n",
              "        1.70139738e-01,  1.93209560e-01, -1.26474944e-01,  4.58586510e-04,\n",
              "        1.41995608e-02, -8.79739569e-02, -2.51904326e-02, -1.02627767e-01,\n",
              "       -4.40767285e-02,  1.34399840e-02,  1.26440845e-01,  1.39480556e-02,\n",
              "       -4.32557656e-02, -1.00558549e-01, -1.54383084e-02,  1.98164266e-02,\n",
              "        4.35204886e-02,  4.26458256e-02,  2.48054847e-01, -1.71606853e-01,\n",
              "        8.17699358e-02,  4.83276833e-03, -3.01130142e-02,  4.67878677e-02,\n",
              "        9.66072094e-04, -1.25305712e-01,  1.92085364e-02,  1.43981106e-02,\n",
              "       -2.09865294e-02,  5.88492726e-02, -5.10135844e-02, -1.95522250e-02,\n",
              "       -1.19335987e-01, -6.41381862e-02, -4.50789229e-02, -1.92685886e-02,\n",
              "       -6.00656212e-02, -1.31114333e-01, -7.56390493e-02,  1.49765831e-02,\n",
              "        2.21293044e-02,  3.01116723e-01, -2.97159275e-02, -1.10087304e-01,\n",
              "        1.88866626e-01,  9.94643868e-02, -1.76559081e-02,  1.44424636e-01,\n",
              "        9.10987549e-02,  8.72437066e-02, -5.31024073e-02, -3.22268727e-02,\n",
              "       -1.69999680e-01,  4.96077954e-02,  5.42167847e-02, -1.80585675e-01,\n",
              "        1.86277798e-02, -1.13285819e-01, -1.13166935e-01,  6.32231214e-02,\n",
              "        9.49037973e-02, -1.13691851e-01,  1.46227294e-01,  6.79291915e-02,\n",
              "       -1.45579372e-02, -1.32633005e-01,  4.01148740e-02, -1.62834632e-01,\n",
              "        8.61828761e-02, -8.99560255e-02,  7.09055972e-04,  4.12791925e-02,\n",
              "       -3.56159122e-02,  6.86754864e-02, -8.54538652e-03, -8.03881717e-02,\n",
              "       -7.04104479e-03,  1.15998722e-03,  9.21368940e-02, -5.24447490e-02,\n",
              "        5.88795428e-02, -4.13567728e-02, -4.58041357e-02,  2.01869682e-02,\n",
              "       -5.59712684e-02,  4.80744464e-04,  9.11724972e-02, -5.99699644e-03,\n",
              "       -5.95278119e-03, -1.99823882e-01, -8.65932592e-02,  1.19128663e-01,\n",
              "        1.09185685e-01,  3.29259809e-02, -1.69732375e-01, -2.27442965e-02,\n",
              "        7.36021039e-02,  1.71360569e-01, -8.97626618e-02, -1.34502243e-02,\n",
              "        2.40129175e-02, -1.05442164e-01, -7.97735271e-02,  9.26167298e-02,\n",
              "        7.45975777e-02, -2.13572805e-02,  5.66886767e-02,  1.08942062e-01,\n",
              "        2.07083080e-01, -3.24692022e-02, -1.42412610e-01,  2.10187745e-02,\n",
              "        4.41781839e-02,  7.66388041e-02, -5.76312604e-02,  1.05521244e-01,\n",
              "        5.62876062e-02, -2.85307687e-02, -4.58643742e-02,  3.06951552e-03,\n",
              "        6.21454191e-02,  1.34674949e-01, -5.96682314e-02, -4.62208230e-02,\n",
              "        1.66763270e-01,  1.61695661e-01, -1.16513204e-01,  1.55547860e-01,\n",
              "       -9.12184838e-02, -6.48913830e-02,  1.57715991e-02,  1.48103670e-01,\n",
              "       -4.27966500e-02, -8.51188760e-03, -1.04529409e-01,  3.22370646e-03,\n",
              "       -8.12307200e-02, -9.19318697e-02, -9.65180701e-02, -5.02061436e-03,\n",
              "       -2.05551020e-01, -9.15974443e-02, -3.19665014e-02, -7.49695789e-02,\n",
              "        2.65712993e-02, -5.16672391e-02,  1.03439547e-02, -2.38235300e-04,\n",
              "       -1.46937595e-01,  1.08927585e-01,  1.20486096e-01, -2.74639642e-02,\n",
              "        2.50394499e-02,  1.48351913e-01, -7.50982066e-02,  3.07106771e-02,\n",
              "       -7.78049092e-02, -1.21643400e-01, -1.12059988e-01, -2.66504093e-02,\n",
              "       -8.55015433e-02, -1.23315541e-01, -1.38690134e-01,  5.87898340e-02,\n",
              "        4.96262565e-02,  2.35425351e-02,  4.14527569e-02, -6.11379595e-02,\n",
              "       -4.26310865e-02, -9.25879216e-03,  8.21479721e-02, -1.37227027e-01,\n",
              "       -3.89642758e-02, -2.68248442e-02, -8.87922948e-02,  3.26222740e-02,\n",
              "       -7.88529117e-03,  3.24772958e-03, -1.33388819e-01,  1.71517296e-02,\n",
              "        1.45348635e-02, -6.55374245e-02, -8.08513464e-02,  1.20444512e-01,\n",
              "       -6.68137905e-02,  1.62736452e-02, -4.55040103e-02,  5.22551220e-02,\n",
              "        5.69689943e-02,  2.07146903e-01,  1.48472416e-01,  1.10723979e-01,\n",
              "       -1.50117046e-01,  1.43732199e-01, -9.29060408e-02, -1.38254452e-02,\n",
              "       -4.21095360e-02, -1.08301642e-01,  1.31427530e-01, -1.41778618e-02,\n",
              "        1.91614293e-01,  4.69779505e-02, -1.01639833e-01,  1.67757038e-01,\n",
              "        3.16144886e-02,  5.47495562e-02, -1.42319720e-01, -1.79384154e-02,\n",
              "        5.13889391e-02, -1.27402441e-02, -1.66514214e-02, -3.00147360e-02,\n",
              "        9.39029321e-02,  1.49766384e-02, -2.59139842e-01,  9.14179017e-02,\n",
              "       -4.14905390e-02, -7.49952574e-02, -1.36338027e-01,  5.65136645e-02,\n",
              "        1.11125882e-01, -1.30527416e-01,  4.25219018e-02,  8.18473131e-02,\n",
              "       -5.65821762e-02,  1.50597823e-02, -1.33934111e-01, -7.07356820e-02,\n",
              "       -1.61907071e-01,  1.01913127e-01, -1.54818785e-01,  1.53406737e-01,\n",
              "       -6.77891601e-02, -1.80493369e-03, -2.00253966e-01, -9.38021582e-02,\n",
              "        2.04372700e-01,  4.32087943e-02,  6.61515409e-02,  2.35181505e-02,\n",
              "       -5.10494000e-02,  6.62281477e-02,  3.69473199e-02,  4.51965510e-02,\n",
              "       -1.37627502e-01,  1.00289475e-01, -2.10653518e-02, -1.15211535e-02,\n",
              "       -5.35366171e-02,  6.32281454e-02, -1.44036411e-01, -8.51645980e-02,\n",
              "       -8.31328649e-02, -4.18259080e-02, -6.14540838e-03,  1.60688867e-01,\n",
              "        8.56560000e-02, -1.12406963e-01,  1.37558817e-02,  9.50687803e-02,\n",
              "       -7.23951156e-02, -1.23365587e-02, -1.43220069e-02,  1.38136879e-01,\n",
              "        1.04305314e-02,  1.54219298e-01,  4.54583956e-02,  1.28426853e-04])"
            ]
          },
          "metadata": {},
          "execution_count": 128
        }
      ]
    },
    {
      "cell_type": "code",
      "source": [
        "#Exercise:1.Simulate a six-sided dice using numpy.random.choice(), generate a list of values you would obtain from 10 throws.\n",
        "dice = np.random.choice([1,6], 10)\n",
        "dice\n"
      ],
      "metadata": {
        "colab": {
          "base_uri": "https://localhost:8080/"
        },
        "id": "VCaemq_N8-Q1",
        "outputId": "52ebd5a5-d0f2-429c-cbf3-40d47301b9d3"
      },
      "execution_count": 129,
      "outputs": [
        {
          "output_type": "execute_result",
          "data": {
            "text/plain": [
              "array([6, 6, 6, 6, 1, 1, 6, 1, 6, 6])"
            ]
          },
          "metadata": {},
          "execution_count": 129
        }
      ]
    },
    {
      "cell_type": "code",
      "source": [
        "#2.Simulate a two-sided coin toss that is NOT fair: it is twice as likely to have head than tails.\n",
        "coin = np.random.choice(['H','H','T'], 2)\n",
        "coin\n"
      ],
      "metadata": {
        "colab": {
          "base_uri": "https://localhost:8080/"
        },
        "id": "5S9f2TFU9aKS",
        "outputId": "3c01717f-daba-427b-d916-a89a35f26edd"
      },
      "execution_count": 133,
      "outputs": [
        {
          "output_type": "execute_result",
          "data": {
            "text/plain": [
              "array(['T', 'T'], dtype='<U1')"
            ]
          },
          "metadata": {},
          "execution_count": 133
        }
      ]
    },
    {
      "cell_type": "code",
      "source": [],
      "metadata": {
        "id": "Jvp2t8nI9xJQ"
      },
      "execution_count": null,
      "outputs": []
    }
  ]
}