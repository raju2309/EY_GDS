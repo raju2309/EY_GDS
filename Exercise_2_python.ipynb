{
  "nbformat": 4,
  "nbformat_minor": 0,
  "metadata": {
    "colab": {
      "provenance": [],
      "authorship_tag": "ABX9TyOr2jpj7/jDQRRiVigLyAaa",
      "include_colab_link": true
    },
    "kernelspec": {
      "name": "python3",
      "display_name": "Python 3"
    },
    "language_info": {
      "name": "python"
    }
  },
  "cells": [
    {
      "cell_type": "markdown",
      "metadata": {
        "id": "view-in-github",
        "colab_type": "text"
      },
      "source": [
        "<a href=\"https://colab.research.google.com/github/raju2309/EY_GDS/blob/main/Exercise_2_python.ipynb\" target=\"_parent\"><img src=\"https://colab.research.google.com/assets/colab-badge.svg\" alt=\"Open In Colab\"/></a>"
      ]
    },
    {
      "cell_type": "code",
      "execution_count": 2,
      "metadata": {
        "colab": {
          "base_uri": "https://localhost:8080/"
        },
        "id": "kap4TM1rbje4",
        "outputId": "0c918b65-cb10-4b64-9557-9aa1e17f5b71"
      },
      "outputs": [
        {
          "name": "stdout",
          "output_type": "stream",
          "text": [
            "Enter three Names: Raju Kumar Sagar\n"
          ]
        }
      ],
      "source": [
        "#1.Write a program to take three names as input from a user in the single input() function call.\n",
        "a, b, c = input(\"Enter three Names: \").split()"
      ]
    },
    {
      "cell_type": "code",
      "source": [
        "#2. Write a program to print the following number pattern using a loop. \n",
        "for i in range(1,6):\n",
        "    for j in range(1, i+1):\n",
        "        print(j, end=\" \")\n",
        "    \n",
        "    print(\"\\n\")"
      ],
      "metadata": {
        "colab": {
          "base_uri": "https://localhost:8080/"
        },
        "id": "LA8nfro1cPyk",
        "outputId": "c3137080-79e8-4c8d-b135-755c5c3fb03b"
      },
      "execution_count": 6,
      "outputs": [
        {
          "output_type": "stream",
          "name": "stdout",
          "text": [
            "1 \n",
            "\n",
            "1 2 \n",
            "\n",
            "1 2 3 \n",
            "\n",
            "1 2 3 4 \n",
            "\n",
            "1 2 3 4 5 \n",
            "\n"
          ]
        }
      ]
    },
    {
      "cell_type": "code",
      "source": [
        "#3.Write a program to accept a number from a user and calculate the sum of all numbers from 1 to a given number \n",
        "num=int(input(\"Enter Number : \"))\n",
        "sum=0\n",
        "for i in range(1,num+1,1):\n",
        "  sum=sum+i\n",
        "\n",
        "print(\"Sum = \",sum)"
      ],
      "metadata": {
        "colab": {
          "base_uri": "https://localhost:8080/"
        },
        "id": "suQwNK0Rctnp",
        "outputId": "9c32fcca-40a2-4f32-c9cf-688f2e0c8098"
      },
      "execution_count": 8,
      "outputs": [
        {
          "output_type": "stream",
          "name": "stdout",
          "text": [
            "Enter Number : 10\n",
            "Sum =  55\n"
          ]
        }
      ]
    },
    {
      "cell_type": "code",
      "source": [
        "#4. Print list in reverse order using a loop \n",
        "list1= [23,4,1,76,98,23]\n",
        "i = len(list1) - 1\n",
        "while i > 0:\n",
        "  print(list1[i])\n",
        "  i-=1"
      ],
      "metadata": {
        "colab": {
          "base_uri": "https://localhost:8080/"
        },
        "id": "FmlNkCmXeLMa",
        "outputId": "2236dbbe-eed1-479c-ed3c-3cbe0b61e35a"
      },
      "execution_count": 12,
      "outputs": [
        {
          "output_type": "stream",
          "name": "stdout",
          "text": [
            "23\n",
            "98\n",
            "76\n",
            "1\n",
            "4\n"
          ]
        }
      ]
    },
    {
      "cell_type": "code",
      "source": [
        "#5. Write a program to display all prime numbers within a range \n",
        "for n in range(1, 50+1):\n",
        "   if n > 1:\n",
        "       for i in range(2,n):\n",
        "           if (n % i) == 0:\n",
        "               break\n",
        "       else:\n",
        "           print(n)"
      ],
      "metadata": {
        "colab": {
          "base_uri": "https://localhost:8080/"
        },
        "id": "le2uo8XEftar",
        "outputId": "2f30a374-9089-4a17-f80a-989830dbc180"
      },
      "execution_count": 16,
      "outputs": [
        {
          "output_type": "stream",
          "name": "stdout",
          "text": [
            "2\n",
            "3\n",
            "5\n",
            "7\n",
            "11\n",
            "13\n",
            "17\n",
            "19\n",
            "23\n",
            "29\n",
            "31\n",
            "37\n",
            "41\n",
            "43\n",
            "47\n"
          ]
        }
      ]
    },
    {
      "cell_type": "code",
      "source": [
        "#6. Find the factorial of a given number without using math module \n",
        "\n",
        "num = 5\n",
        "\n",
        "fact = 1\n",
        "if num < 0:\n",
        "   print(\"Sorry, factorial does not exist for negative numbers\")\n",
        "elif num == 0:\n",
        "   print(\"The factorial of 0 is 1\")\n",
        "else:\n",
        "   for i in range(1,num+1):\n",
        "       fact = fact*i\n",
        "   print(\"The factorial of\",num,\"is\",fact)"
      ],
      "metadata": {
        "colab": {
          "base_uri": "https://localhost:8080/"
        },
        "id": "Whj8N4D-g3Qb",
        "outputId": "a987e91d-d8a5-48cf-ba49-9bf73fbe1637"
      },
      "execution_count": 22,
      "outputs": [
        {
          "output_type": "stream",
          "name": "stdout",
          "text": [
            "The factorial of 5 is 120\n"
          ]
        }
      ]
    },
    {
      "cell_type": "code",
      "source": [
        "#7. Print the following pattern \n",
        "num = 5\n",
        "for i in range(0, num):\n",
        "    for j in range(0, i + 1):\n",
        "        print(\"*\", end=' ')\n",
        "    print(\" \")\n",
        "\n",
        "\n",
        "for i in range(num + 1, 0, -1):\n",
        "    for j in range(1, i - 1):\n",
        "        print(\"*\", end=' ')\n",
        "    print(\" \")"
      ],
      "metadata": {
        "colab": {
          "base_uri": "https://localhost:8080/"
        },
        "id": "Wh0JJR-gh7L_",
        "outputId": "3f2a8157-2823-4c86-90a2-9370b6ee9b39"
      },
      "execution_count": 25,
      "outputs": [
        {
          "output_type": "stream",
          "name": "stdout",
          "text": [
            "*  \n",
            "* *  \n",
            "* * *  \n",
            "* * * *  \n",
            "* * * * *  \n",
            "* * * *  \n",
            "* * *  \n",
            "* *  \n",
            "*  \n",
            " \n",
            " \n"
          ]
        }
      ]
    },
    {
      "cell_type": "code",
      "source": [],
      "metadata": {
        "id": "BjhrpfARjR8A"
      },
      "execution_count": null,
      "outputs": []
    }
  ]
}