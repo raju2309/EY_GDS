{
  "nbformat": 4,
  "nbformat_minor": 0,
  "metadata": {
    "colab": {
      "provenance": [],
      "authorship_tag": "ABX9TyN8lFR/iaASPQIplJnh+6Xw",
      "include_colab_link": true
    },
    "kernelspec": {
      "name": "python3",
      "display_name": "Python 3"
    },
    "language_info": {
      "name": "python"
    }
  },
  "cells": [
    {
      "cell_type": "markdown",
      "metadata": {
        "id": "view-in-github",
        "colab_type": "text"
      },
      "source": [
        "<a href=\"https://colab.research.google.com/github/raju2309/EY_GDS/blob/main/Function_Exercise_1.ipynb\" target=\"_parent\"><img src=\"https://colab.research.google.com/assets/colab-badge.svg\" alt=\"Open In Colab\"/></a>"
      ]
    },
    {
      "cell_type": "code",
      "execution_count": 5,
      "metadata": {
        "colab": {
          "base_uri": "https://localhost:8080/"
        },
        "id": "yIotqx-AMQ8P",
        "outputId": "a930d916-c29c-4fdd-ac65-31da5b9d91de"
      },
      "outputs": [
        {
          "output_type": "stream",
          "name": "stdout",
          "text": [
            "8\n",
            "23\n",
            "12\n",
            "3\n"
          ]
        }
      ],
      "source": [
        "#1.Create a function in such a way that we can pass any number of arguments to this function, and the function should process them and display each argument’s value \n",
        "def func1(*a):\n",
        "    for i in a:\n",
        "        print(i)\n",
        "func1(8,23,12,3)"
      ]
    },
    {
      "cell_type": "code",
      "source": [
        "#2.Write a program to create function calculation() such that it can accept two variables and calculate addition and subtraction. Also, it must return both addition and subtraction in a single return call. \n",
        "def calculation(a, b):\n",
        "    addition = a + b\n",
        "    subtraction = a - b\n",
        "    return addition, subtraction\n",
        "\n",
        "result = calculation(120, 100)\n",
        "print(result)"
      ],
      "metadata": {
        "colab": {
          "base_uri": "https://localhost:8080/"
        },
        "id": "Qy-EmvaYN7Bn",
        "outputId": "5c9e1505-9356-4336-b8a6-69d26544b126"
      },
      "execution_count": 3,
      "outputs": [
        {
          "output_type": "stream",
          "name": "stdout",
          "text": [
            "(220, 20)\n"
          ]
        }
      ]
    },
    {
      "cell_type": "code",
      "source": [
        "#3.Write a program to create a function show_employee() using the following conditions. \n",
        "\n",
        "#A)It should accept the employee’s name and salary and display both. \n",
        "\n",
        "#B)If the salary is missing in the function call then assign default value 9000 to salary \n",
        "\n",
        "def show_employee(name, salary=9000):\n",
        "    print(\"Name:\", name, \"salary:\", salary)\n",
        "\n",
        "show_employee(\"Raju Kumar\", 52000) #A\n",
        "show_employee(\"Raju Kumar\") #B ---Default parameter"
      ],
      "metadata": {
        "colab": {
          "base_uri": "https://localhost:8080/"
        },
        "id": "btJaTJdJONpx",
        "outputId": "24ebb300-d19d-4155-d49a-66f9325a1aff"
      },
      "execution_count": 6,
      "outputs": [
        {
          "output_type": "stream",
          "name": "stdout",
          "text": [
            "Name: Raju Kumar salary: 52000\n",
            "Name: Raju Kumar salary: 9000\n"
          ]
        }
      ]
    },
    {
      "cell_type": "code",
      "source": [
        "#4.Create an outer function that will accept two parameters, a and b,\n",
        "#Create an inner function inside an outer function that will calculate the addition of a and b, \n",
        "# At last, an outer function will add 5 into addition and return it.\n",
        "\n",
        "def fun2(a, b):\n",
        "  def add(a,b):\n",
        "    return a+b \n",
        "  sum=add(a,b)\n",
        "  print(sum)\n",
        "  return 5+sum\n",
        "\n",
        "fun2(20,30)"
      ],
      "metadata": {
        "colab": {
          "base_uri": "https://localhost:8080/"
        },
        "id": "_LzbMbHzPvVT",
        "outputId": "601462ab-40e1-4635-a0a1-7bcbb28b6fac"
      },
      "execution_count": 9,
      "outputs": [
        {
          "output_type": "stream",
          "name": "stdout",
          "text": [
            "50\n"
          ]
        },
        {
          "output_type": "execute_result",
          "data": {
            "text/plain": [
              "55"
            ]
          },
          "metadata": {},
          "execution_count": 9
        }
      ]
    },
    {
      "cell_type": "code",
      "source": [],
      "metadata": {
        "id": "m5-fQhexQ8_o"
      },
      "execution_count": null,
      "outputs": []
    }
  ]
}