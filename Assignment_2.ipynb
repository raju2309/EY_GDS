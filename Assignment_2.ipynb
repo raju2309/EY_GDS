{
  "nbformat": 4,
  "nbformat_minor": 0,
  "metadata": {
    "colab": {
      "provenance": [],
      "authorship_tag": "ABX9TyPa/9H2muFulNSQ9eCkeiW/",
      "include_colab_link": true
    },
    "kernelspec": {
      "name": "python3",
      "display_name": "Python 3"
    },
    "language_info": {
      "name": "python"
    }
  },
  "cells": [
    {
      "cell_type": "markdown",
      "metadata": {
        "id": "view-in-github",
        "colab_type": "text"
      },
      "source": [
        "<a href=\"https://colab.research.google.com/github/raju2309/EY_GDS/blob/main/Assignment_2.ipynb\" target=\"_parent\"><img src=\"https://colab.research.google.com/assets/colab-badge.svg\" alt=\"Open In Colab\"/></a>"
      ]
    },
    {
      "cell_type": "code",
      "execution_count": null,
      "metadata": {
        "id": "K1X0X3lS6d5-"
      },
      "outputs": [],
      "source": []
    },
    {
      "cell_type": "markdown",
      "source": [
        "Design a linked list, where every node contains\n",
        "firstname,lastname, hobby and phone number.\n",
        "Write functions to perform the following:\n",
        "\n",
        "1.Add new element to the list.\n",
        "2.Search and Rename an element from the list\n",
        "3.Perform deduplication-means all duplicates should be removed\n",
        "4.Reverse the list"
      ],
      "metadata": {
        "id": "mhZsEoGr6o35"
      }
    },
    {
      "cell_type": "code",
      "source": [
        "\n",
        "  "
      ],
      "metadata": {
        "id": "1sqm71YP6r0O"
      },
      "execution_count": 2,
      "outputs": []
    },
    {
      "cell_type": "code",
      "source": [],
      "metadata": {
        "id": "yGuK-H0dZLNU"
      },
      "execution_count": 2,
      "outputs": []
    },
    {
      "cell_type": "code",
      "source": [
        "#1.Linked List Designing\n",
        "class Node:\n",
        "  \n",
        " \n",
        "    def __init__(self, data):\n",
        "        self.data = data  \n",
        "        self.next = None  \n",
        "  \n",
        "  \n",
        "# Linked List class contains a Node object\n",
        "class LinkedList:\n",
        "  \n",
        "    def __init__(self):\n",
        "        self.head = None\n",
        "  \n",
        "    # This function prints contents of linked list\n",
        "    # starting from head\n",
        "    def printList(self):\n",
        "        temp = self.head\n",
        "        while (temp):\n",
        "            print(temp.data)\n",
        "            temp = temp.next\n",
        "  \n",
        "  \n",
        "\n",
        "  \n",
        "    # Start with the empty list\n",
        "llist = LinkedList()\n",
        "  \n",
        "llist.head = Node(\"First Name: Raju\")\n",
        "second = Node(\"Last Name : Kumar\")\n",
        "third = Node(\"Hobby : Reading\")\n",
        "fourth = Node(\"Phone Number: 700540245\")\n",
        "\n",
        "  \n",
        "llist.head.next = second  \n",
        "second.next = third  \n",
        "third.next = fourth\n",
        "  \n",
        "llist.printList()"
      ],
      "metadata": {
        "id": "7hJWb9dyq7ZJ",
        "colab": {
          "base_uri": "https://localhost:8080/"
        },
        "outputId": "329524ad-8556-403b-89d4-eb30ef0cb817"
      },
      "execution_count": 1,
      "outputs": [
        {
          "output_type": "stream",
          "name": "stdout",
          "text": [
            "First Name: Raju\n",
            "Last Name : Kumar\n",
            "Hobby : Reading\n",
            "Phone Number: 700540245\n"
          ]
        }
      ]
    },
    {
      "cell_type": "code",
      "source": [
        "#2.Adding A New Element to the list\n",
        "class Node:\n",
        "  \n",
        "    # Function to initialise the node object\n",
        "    def __init__(self, data):\n",
        "        self.data = data  # Assign data\n",
        "        self.next = None  # Initialize next as null\n",
        "  \n",
        "  \n",
        "# Linked List class contains a Node object\n",
        "class LinkedList:\n",
        "  \n",
        "    def __init__(self):\n",
        "        self.head = None\n",
        "  \n",
        "    # This function prints contents of linked list\n",
        "    # starting from head\n",
        "    def printList(self):\n",
        "        temp = self.head\n",
        "        while (temp):\n",
        "            print(temp.data)\n",
        "            temp = temp.next\n",
        "  \n",
        "  \n",
        "\n",
        "  \n",
        "    # Start with the empty list\n",
        "llist = LinkedList()\n",
        "  \n",
        "llist.head = Node(\"First Name: Raju\")\n",
        "second = Node(\"Last Name : Kumar\")\n",
        "third = Node(\"Hobby : Reading\")\n",
        "fourth = Node(\"Phone Number: 700540245\")\n",
        "fifth = Node(\"Address : abc\")\n",
        "\n",
        "  \n",
        "llist.head.next = second  \n",
        "second.next = third  \n",
        "third.next = fourth\n",
        "fourth.next = fifth\n",
        "  \n",
        "llist.printList()"
      ],
      "metadata": {
        "colab": {
          "base_uri": "https://localhost:8080/"
        },
        "id": "S3CyjvqyHaMX",
        "outputId": "b5bb2c1f-7128-4874-dc83-54dd893fd883"
      },
      "execution_count": 2,
      "outputs": [
        {
          "output_type": "stream",
          "name": "stdout",
          "text": [
            "First Name: Raju\n",
            "Last Name : Kumar\n",
            "Hobby : Reading\n",
            "Phone Number: 700540245\n",
            "Address : abc\n"
          ]
        }
      ]
    },
    {
      "cell_type": "code",
      "source": [
        "#3.Searching And Renaming element from the list.\n",
        "class Node:\n",
        " \n",
        "   \n",
        "    def __init__(self, data):\n",
        "        self.data = data  \n",
        "        self.next = None  \n",
        " \n",
        "# Linked List class\n",
        " \n",
        " \n",
        "class LinkedList:\n",
        "    def __init__(self):\n",
        "        self.head = None  \n",
        " \n",
        "   \n",
        "    def push(self, new_data):\n",
        " \n",
        "       \n",
        "        new_node = Node(new_data)\n",
        " \n",
        "     \n",
        "        new_node.next = self.head\n",
        " \n",
        "        # 4. Move the head to point to new Node\n",
        "        self.head = new_node\n",
        " \n",
        "   \n",
        "    def search(self, x):\n",
        " \n",
        "        # Initialize current to head\n",
        "        current = self.head\n",
        " \n",
        "        # loop till current not equal to None\n",
        "        while current != None:\n",
        "            if current.data == x:\n",
        "                return True  # data found\n",
        "            \n",
        "            current.data = \"Sagar\"\n",
        "            current = current.next\n",
        " \n",
        "        return False \n",
        "llist = LinkedList()\n",
        "  \n",
        "llist.head = Node(\"First Name: Raju\")\n",
        "second = Node(\"Last Name : Kumar\")\n",
        "third = Node(\"Hobby : Reading\")\n",
        "fourth = Node(\"Phone Number: 700540245\")\n",
        "\n",
        "  \n",
        "llist.head.next = second  \n",
        "second.next = third  \n",
        "third.next = fourth\n",
        "#llist.search(\"Last Name : Kumar\")\n",
        "if llist.search(\"Last Name : Kumar\"):\n",
        "        print(\"Last Name : Sagar\")\n",
        "else:\n",
        "  print(\"No\")\n"
      ],
      "metadata": {
        "colab": {
          "base_uri": "https://localhost:8080/"
        },
        "id": "bJ8scTbYIZO3",
        "outputId": "af1da556-ee1e-40e0-a29d-6d47a36b7f73"
      },
      "execution_count": 15,
      "outputs": [
        {
          "output_type": "stream",
          "name": "stdout",
          "text": [
            "Last Name : Sagar\n"
          ]
        }
      ]
    },
    {
      "cell_type": "code",
      "source": [],
      "metadata": {
        "id": "dqep5T50KRJB"
      },
      "execution_count": 28,
      "outputs": []
    },
    {
      "cell_type": "code",
      "source": [
        "#4.Reverse the list\n",
        "class Node:\n",
        "  \n",
        "    # Constructor to initialize the node object\n",
        "    def __init__(self, data):\n",
        "        self.data = data\n",
        "        self.next = None\n",
        "  \n",
        "  \n",
        "class LinkedList:\n",
        "  \n",
        "    # Function to initialize head\n",
        "    def __init__(self):\n",
        "        self.head = None\n",
        "  \n",
        "    # Function to reverse the linked list\n",
        "    def reverse(self):\n",
        "        prev = None\n",
        "        current = self.head\n",
        "        while(current is not None):\n",
        "            next = current.next\n",
        "            current.next = prev\n",
        "            prev = current\n",
        "            current = next\n",
        "        self.head = prev\n",
        "  \n",
        "    # Function to insert a new node at the beginning\n",
        "    def push(self, new_data):\n",
        "        new_node = Node(new_data)\n",
        "        new_node.next = self.head\n",
        "        self.head = new_node\n",
        "  \n",
        "    # Utility function to print the LinkedList\n",
        "    def printList(self):\n",
        "        temp = self.head\n",
        "        while(temp):\n",
        "            print (temp.data,end=\" \")\n",
        "            temp = temp.next\n",
        "  \n",
        "  \n",
        "# Driver program to test above functions\n",
        "llist = LinkedList()\n",
        "llist.push(\"First Name:Raju\")\n",
        "llist.push(\"Last Name:Kumar\")\n",
        "llist.push(\"Address:abc\")\n",
        "llist.push(\"Phone:654454\")\n",
        "  \n",
        "print (\"Given Linked List\")\n",
        "llist.printList()\n",
        "llist.reverse()\n",
        "print (\"\\nReversed Linked List\")\n",
        "llist.printList()\n",
        "  "
      ],
      "metadata": {
        "colab": {
          "base_uri": "https://localhost:8080/"
        },
        "id": "ET0WZeLBWBKz",
        "outputId": "67035ac9-6cf9-48c4-a48f-c4a48c8112cf"
      },
      "execution_count": 20,
      "outputs": [
        {
          "output_type": "stream",
          "name": "stdout",
          "text": [
            "Given Linked List\n",
            "Phone:654454 Address:abc Last Name:Kumar First Name:Raju \n",
            "Reversed Linked List\n",
            "First Name:Raju Last Name:Kumar Address:abc Phone:654454 "
          ]
        }
      ]
    },
    {
      "cell_type": "code",
      "source": [],
      "metadata": {
        "id": "dXHbjPQDWnK6"
      },
      "execution_count": null,
      "outputs": []
    }
  ]
}