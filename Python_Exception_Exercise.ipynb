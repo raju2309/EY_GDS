{
  "nbformat": 4,
  "nbformat_minor": 0,
  "metadata": {
    "colab": {
      "provenance": [],
      "collapsed_sections": [],
      "authorship_tag": "ABX9TyO3aB9LKoaKc4jIDE6N/KvX",
      "include_colab_link": true
    },
    "kernelspec": {
      "name": "python3",
      "display_name": "Python 3"
    },
    "language_info": {
      "name": "python"
    }
  },
  "cells": [
    {
      "cell_type": "markdown",
      "metadata": {
        "id": "view-in-github",
        "colab_type": "text"
      },
      "source": [
        "<a href=\"https://colab.research.google.com/github/raju2309/EY_GDS/blob/main/Python_Exception_Exercise.ipynb\" target=\"_parent\"><img src=\"https://colab.research.google.com/assets/colab-badge.svg\" alt=\"Open In Colab\"/></a>"
      ]
    },
    {
      "cell_type": "code",
      "execution_count": 12,
      "metadata": {
        "colab": {
          "base_uri": "https://localhost:8080/"
        },
        "id": "bcEHwBTyvug9",
        "outputId": "0e368591-e229-4433-c54e-97039ab9277e"
      },
      "outputs": [
        {
          "output_type": "stream",
          "name": "stdout",
          "text": [
            "Index is out of range \n"
          ]
        }
      ],
      "source": [
        "#1.create a list, try to access any element with the help of index.\n",
        "#Now, try to specify the index which is not in range, check for the exception you got.\n",
        "#handle that exception using exception handling\n",
        "#list1[6] : IndexError\n",
        "try:\n",
        "  list1 = [23,45,21,45,76]\n",
        "  list1[0]\n",
        "  list1[6]\n",
        "except IndexError:\n",
        "  print(\"Index is out of range \")\n"
      ]
    },
    {
      "cell_type": "code",
      "source": [
        "#2. let's say you have the following code written:\n",
        "#names = Input('Enter your name:')\n",
        "\n",
        "#check for the error/exception that you got, \n",
        "#handle the exception using exception handling\n",
        "#names = Input('Enter your name:') :- NameError Exception\n",
        "try:\n",
        "\n",
        "  names = Input('Enter your name:')\n",
        "except NameError:\n",
        "  print(\"keyword is not defined\")"
      ],
      "metadata": {
        "colab": {
          "base_uri": "https://localhost:8080/"
        },
        "id": "9FhAUMokxg-I",
        "outputId": "51605616-748d-48c5-fafd-a944820d004e"
      },
      "execution_count": null,
      "outputs": [
        {
          "output_type": "stream",
          "name": "stdout",
          "text": [
            "keyword is not defined\n"
          ]
        }
      ]
    },
    {
      "cell_type": "code",
      "source": [],
      "metadata": {
        "id": "0clSeZHeyZkx"
      },
      "execution_count": null,
      "outputs": []
    }
  ]
}