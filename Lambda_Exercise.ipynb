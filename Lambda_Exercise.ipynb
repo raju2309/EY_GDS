{
  "nbformat": 4,
  "nbformat_minor": 0,
  "metadata": {
    "colab": {
      "provenance": [],
      "authorship_tag": "ABX9TyNSCCv1R+dgkE71dQQo/2QM",
      "include_colab_link": true
    },
    "kernelspec": {
      "name": "python3",
      "display_name": "Python 3"
    },
    "language_info": {
      "name": "python"
    }
  },
  "cells": [
    {
      "cell_type": "markdown",
      "metadata": {
        "id": "view-in-github",
        "colab_type": "text"
      },
      "source": [
        "<a href=\"https://colab.research.google.com/github/raju2309/EY_GDS/blob/main/Lambda_Exercise.ipynb\" target=\"_parent\"><img src=\"https://colab.research.google.com/assets/colab-badge.svg\" alt=\"Open In Colab\"/></a>"
      ]
    },
    {
      "cell_type": "code",
      "execution_count": 2,
      "metadata": {
        "colab": {
          "base_uri": "https://localhost:8080/"
        },
        "id": "f0BFCdU8kN58",
        "outputId": "99ffe93d-df16-48fd-8570-220b7873272e"
      },
      "outputs": [
        {
          "output_type": "stream",
          "name": "stdout",
          "text": [
            "40\n",
            "30\n"
          ]
        }
      ],
      "source": [
        "#Write a Python program to create a lambda function that adds 15 to a given number passed in as an argument, also create a lambda function that multiplies argument x with argument y and print the result.\n",
        "l= lambda a : a + 15\n",
        "print(l(25))\n",
        "l = lambda x, y : x * y\n",
        "print(l(5, 6))"
      ]
    },
    {
      "cell_type": "code",
      "source": [
        "#2. Write a Python program to extract PRESENT year, month, date and time using Lambda.\n",
        "import datetime\n",
        "\n",
        "d = datetime.datetime.now()\n",
        "d\n",
        "year = lambda x: x.year\n",
        "month = lambda x: x.month\n",
        "day = lambda x: x.day\n",
        "t1= lambda x: x.time()\n",
        "print(year(d))\n",
        "print(month(d))\n",
        "print(day(d))\n",
        "print(t1(d))\n"
      ],
      "metadata": {
        "colab": {
          "base_uri": "https://localhost:8080/"
        },
        "id": "CEraWQVskr1v",
        "outputId": "f7b22001-9a50-46d3-8449-e7d92060a6ae"
      },
      "execution_count": 6,
      "outputs": [
        {
          "output_type": "stream",
          "name": "stdout",
          "text": [
            "2022\n",
            "9\n",
            "20\n",
            "11:12:23.084663\n"
          ]
        }
      ]
    },
    {
      "cell_type": "code",
      "source": [
        "#3.Write a Python program that sum the length of the names of a given list of names after removing the names that starts with a lowercase letter. Use lambda function.\n",
        "names = ['Raju', 'ankit', 'ayush', 'Abhishek', 'Jinia']\n",
        "names=list(filter(lambda a:a[0].isupper() and a[1:].islower(),names))\n",
        "print(len(''.join(names)))"
      ],
      "metadata": {
        "colab": {
          "base_uri": "https://localhost:8080/"
        },
        "id": "xBN1jW3LlqeK",
        "outputId": "a21bd4cb-5013-4bce-ec88-c83b7d7ef694"
      },
      "execution_count": 10,
      "outputs": [
        {
          "output_type": "stream",
          "name": "stdout",
          "text": [
            "17\n"
          ]
        }
      ]
    },
    {
      "cell_type": "code",
      "source": [
        "#4. Write a Python program to extract specified size of strings from a give list of string values using lambda\n",
        "list1 = ['Hello','raju','Kumar','How are you']\n",
        "Output= list(filter(lambda a: len(a) == 5, list1)) #size = 5\n",
        "Output"
      ],
      "metadata": {
        "colab": {
          "base_uri": "https://localhost:8080/"
        },
        "id": "G0aoVFTvntSP",
        "outputId": "6201326e-fa4e-4d62-84cd-41ba6ac78a2c"
      },
      "execution_count": 11,
      "outputs": [
        {
          "output_type": "execute_result",
          "data": {
            "text/plain": [
              "['Hello', 'Kumar']"
            ]
          },
          "metadata": {},
          "execution_count": 11
        }
      ]
    },
    {
      "cell_type": "code",
      "source": [
        "#5. Write a Python program to find the elements of a given list of strings that contain specific substring using lambda.\n",
        "#Substring to search:\"ack\"\n",
        "#Elements of the said list that contain specific substring:\n",
        "#['black']\n",
        "#Substring to search:\"abc\"\n",
        "#Elements of the said list that contain specific substring:\n",
        "#[] \n",
        "\n",
        "list2 = ['red', 'black', 'white', 'green', 'orange']\n",
        "substring = \"ack\"\n",
        "substring2 = \"abc\"\n",
        "Output2  = list(filter(lambda b: substring  in b, list2))\n",
        "print(Output2)\n",
        "Output3  = list(filter(lambda c: substring2  in c, list2))\n",
        "Output3\n",
        "\n"
      ],
      "metadata": {
        "colab": {
          "base_uri": "https://localhost:8080/"
        },
        "id": "9q3eEt6JtVH4",
        "outputId": "cbb3c02e-fab9-485c-fd24-938c253620c8"
      },
      "execution_count": 19,
      "outputs": [
        {
          "output_type": "stream",
          "name": "stdout",
          "text": [
            "['black']\n"
          ]
        },
        {
          "output_type": "execute_result",
          "data": {
            "text/plain": [
              "[]"
            ]
          },
          "metadata": {},
          "execution_count": 19
        }
      ]
    },
    {
      "cell_type": "code",
      "source": [],
      "metadata": {
        "id": "gzh4Aj86vbW1"
      },
      "execution_count": null,
      "outputs": []
    }
  ]
}